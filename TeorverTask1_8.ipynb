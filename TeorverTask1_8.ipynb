{
 "cells": [
  {
   "cell_type": "code",
   "execution_count": 1,
   "id": "0ae9b7fb-1549-47b7-a8f8-decdacaa5bfa",
   "metadata": {},
   "outputs": [],
   "source": [
    "import numpy as np\n",
    "import pandas as pd\n",
    "from scipy import stats"
   ]
  },
  {
   "cell_type": "markdown",
   "id": "6ddca030-233c-4165-8afa-bd60013002e8",
   "metadata": {},
   "source": [
    "### Задание 1."
   ]
  },
  {
   "cell_type": "markdown",
   "id": "040b6935-c7f7-4ddf-a569-028b55d67623",
   "metadata": {},
   "source": [
    "Провести дисперсионный анализ для определения того, есть ли различия среднего роста среди взрослых футболистов, хоккеистов и штангистов. Даны значения роста в трех группах случайно выбранных спортсменов:\n",
    "Футболисты: 173, 175, 180, 178, 177, 185, 183, 182.\n",
    "Хоккеисты: 177, 179, 180, 188, 177, 172, 171, 184, 180.\n",
    "Штангисты: 172, 173, 169, 177, 166, 180, 178, 177, 172, 166, 170."
   ]
  },
  {
   "cell_type": "markdown",
   "id": "ce69bac6-06bc-4034-8a67-3ddb4a73c927",
   "metadata": {},
   "source": [
    "#### Решение:"
   ]
  },
  {
   "cell_type": "markdown",
   "id": "b8b5bb81-74c8-4d70-a1ce-3bfcd4bcf833",
   "metadata": {},
   "source": [
    "Сформулируем нулевую гипотезу:  \n",
    "$H0 : \\mu_1=\\mu_2=\\mu_3$  т.е. средний рост спортсмена не зависит от вида спорта, которым он занимается(из представленных трех).  \n",
    "Альтернативная гипотеза:  \n",
    "$H1: \\mu_1\\neq\\mu_2\\neq\\mu_3$ т.е. средний рост спортсмена зависит от выбранного им спорта."
   ]
  },
  {
   "cell_type": "code",
   "execution_count": 2,
   "id": "69ab8d4d-82fa-428f-8133-9cdd2ab8613b",
   "metadata": {},
   "outputs": [],
   "source": [
    "football=np.array([173, 175, 180, 178, 177, 185, 183, 182])\n",
    "hockey=np.array([177, 179, 180, 188, 177, 172, 171, 184, 180])\n",
    "lifting=np.array([172, 173, 169, 177, 166, 180, 178, 177, 172, 166, 170])"
   ]
  },
  {
   "cell_type": "markdown",
   "id": "00ca79f4-525a-4a0f-8046-a3bcfef7bff2",
   "metadata": {},
   "source": [
    "Воспользуемся встроенным методом однофакторного дисперсионного анализа библиотеки scipy: "
   ]
  },
  {
   "cell_type": "code",
   "execution_count": 3,
   "id": "38c421c5-fd11-47c5-8b79-db14b19dd58b",
   "metadata": {},
   "outputs": [
    {
     "data": {
      "text/plain": [
       "F_onewayResult(statistic=5.500053450812596, pvalue=0.010482206918698694)"
      ]
     },
     "execution_count": 3,
     "metadata": {},
     "output_type": "execute_result"
    }
   ],
   "source": [
    "stats.f_oneway(football, hockey, lifting)"
   ]
  },
  {
   "cell_type": "markdown",
   "id": "70cbc225-aed6-44ec-9699-35c93b676e06",
   "metadata": {},
   "source": [
    "Получили значение $p-value=0.01048\\Rightarrow$ на уровне статистической значимости $\\alpha=0.05$  отвергаем нулевую гипотезу.  Т.е. средний рост футболистов, хоккеистов и штангистоа различен.  \n"
   ]
  }
 ],
 "metadata": {
  "kernelspec": {
   "display_name": "Python 3 (ipykernel)",
   "language": "python",
   "name": "python3"
  },
  "language_info": {
   "codemirror_mode": {
    "name": "ipython",
    "version": 3
   },
   "file_extension": ".py",
   "mimetype": "text/x-python",
   "name": "python",
   "nbconvert_exporter": "python",
   "pygments_lexer": "ipython3",
   "version": "3.9.13"
  }
 },
 "nbformat": 4,
 "nbformat_minor": 5
}
