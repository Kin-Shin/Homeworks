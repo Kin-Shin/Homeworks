{
 "cells": [
  {
   "cell_type": "code",
   "execution_count": 14,
   "id": "0ae9b7fb-1549-47b7-a8f8-decdacaa5bfa",
   "metadata": {},
   "outputs": [],
   "source": [
    "from math import factorial as fcl\n",
    "import numpy as np\n",
    "from scipy.stats import norm"
   ]
  },
  {
   "cell_type": "markdown",
   "id": "6ddca030-233c-4165-8afa-bd60013002e8",
   "metadata": {},
   "source": [
    "### Задание 1."
   ]
  },
  {
   "cell_type": "markdown",
   "id": "6f30eccb-c963-415c-aa43-68c860f7ad85",
   "metadata": {},
   "source": [
    "Случайная непрерывная величина A имеет равномерное распределение на промежутке (200, 800].\n",
    "Найдите ее среднее значение и дисперсию."
   ]
  },
  {
   "cell_type": "markdown",
   "id": "ce69bac6-06bc-4034-8a67-3ddb4a73c927",
   "metadata": {},
   "source": [
    "#### Решение:"
   ]
  },
  {
   "cell_type": "markdown",
   "id": "f89c6dc2-c1a9-4c1b-adea-a84692bb3140",
   "metadata": {},
   "source": [
    "Для равномерного распределения:\n",
    "$$M(x) = \\frac{a+b}{2}$$  \n",
    "$$D = \\frac{(b-a)^2}{12}$$"
   ]
  },
  {
   "cell_type": "code",
   "execution_count": 1,
   "id": "39b0a3ba-d469-4730-a78f-134e20fdf5aa",
   "metadata": {},
   "outputs": [
    {
     "data": {
      "text/plain": [
       "500.0"
      ]
     },
     "execution_count": 1,
     "metadata": {},
     "output_type": "execute_result"
    }
   ],
   "source": [
    "M = (200 + 800)/2\n",
    "M"
   ]
  },
  {
   "cell_type": "code",
   "execution_count": 3,
   "id": "c2edd067-d999-49f9-8894-8fcc1c54becc",
   "metadata": {},
   "outputs": [
    {
     "data": {
      "text/plain": [
       "30000.0"
      ]
     },
     "execution_count": 3,
     "metadata": {},
     "output_type": "execute_result"
    }
   ],
   "source": [
    "D = (800-200)**2/12\n",
    "D"
   ]
  },
  {
   "cell_type": "markdown",
   "id": "d718ba97-4ef5-4851-95bf-fea372c87a12",
   "metadata": {},
   "source": [
    "### Задание 2."
   ]
  },
  {
   "cell_type": "markdown",
   "id": "74c160f6-2e84-4416-b69c-5e4949a55e4e",
   "metadata": {},
   "source": [
    "О случайной непрерывной равномерно распределенной величине B известно, что ее дисперсия равна 0.2.\n",
    "Можно ли найти правую границу величины B и ее среднее значение зная, что левая граница равна 0.5?\n",
    "Если да, найдите ее."
   ]
  },
  {
   "cell_type": "markdown",
   "id": "f3fad75a-5af5-4e78-a3e7-066d82534dee",
   "metadata": {},
   "source": [
    "#### Решение:"
   ]
  },
  {
   "cell_type": "markdown",
   "id": "955e2507-7a41-44ca-894f-e520f2d5fafb",
   "metadata": {},
   "source": [
    "$$D = \\frac{(b-a)^2}{12}$$"
   ]
  },
  {
   "cell_type": "markdown",
   "id": "a099bce6-42ff-46a5-b70e-5ebf69a9aef3",
   "metadata": {},
   "source": [
    "$0.2 = \\frac{(b-0.5)^2}{12} \\Rightarrow 0.2 \\cdot 12 = (b-0.5)^2 \\Rightarrow b-0.5 = \\sqrt{2.4} \\Rightarrow \\pm 1.549+0.5 \\Rightarrow 1.549+0.5=2.049$"
   ]
  },
  {
   "cell_type": "code",
   "execution_count": 7,
   "id": "4f0d0835-8f3a-4a88-bcb0-868d6379f61e",
   "metadata": {},
   "outputs": [
    {
     "data": {
      "text/plain": [
       "1.5491933384829668"
      ]
     },
     "execution_count": 7,
     "metadata": {},
     "output_type": "execute_result"
    }
   ],
   "source": [
    "np.sqrt(0.2*12)"
   ]
  },
  {
   "cell_type": "markdown",
   "id": "74813ff4-f25e-4b3a-95db-4a22a7d2afbe",
   "metadata": {},
   "source": [
    "$$M(x) = \\frac{a+b}{2}$$  "
   ]
  },
  {
   "cell_type": "code",
   "execution_count": 11,
   "id": "f485524f-6e71-4973-9eb2-646a84577588",
   "metadata": {},
   "outputs": [
    {
     "data": {
      "text/plain": [
       "1.2745"
      ]
     },
     "execution_count": 11,
     "metadata": {},
     "output_type": "execute_result"
    }
   ],
   "source": [
    "M = (0.5 + 2.049)/2\n",
    "M"
   ]
  },
  {
   "cell_type": "markdown",
   "id": "c1e7b95e-74f4-44a3-b0f2-0c7d26093b99",
   "metadata": {
    "tags": []
   },
   "source": [
    "### Задание 3."
   ]
  },
  {
   "cell_type": "markdown",
   "id": "6a34bd9f-d806-4a26-aac3-11cb0c76b13b",
   "metadata": {},
   "source": [
    "Непрерывная случайная величина X распределена нормально и задана плотностью распределения  \n",
    "\n",
    "$$f(x) = (1 / (4 * sqrt(2pi))) * exp((-(x+2)**2) / 32)$$  \n",
    "\n",
    "Найдите:  \n",
    "а). M(X)  \n",
    "б). D(X)  \n",
    "в). std(X) (среднее квадратичное отклонение)"
   ]
  },
  {
   "cell_type": "markdown",
   "id": "4afb1225-c1f0-44db-a255-988f4f5c7dd7",
   "metadata": {},
   "source": [
    "#### Решение:"
   ]
  },
  {
   "cell_type": "markdown",
   "id": "58ed1596-e0f2-4a79-8348-be08e2b24371",
   "metadata": {},
   "source": [
    "<font size=\"6\"> \n",
    "$f(x) = \\frac{1}{\\sigma\\sqrt{2\\pi}}e^{-\\frac{(x-\\mu)^2}{2\\sigma^2}}$   \n",
    "    \n",
    "$f(x) = \\frac{1}{4 \\cdot \\sqrt{2\\pi}} \\cdot e^{-\\frac{(x+2)^2}{32}}$"
   ]
  },
  {
   "cell_type": "markdown",
   "id": "c30abb3f-0e5e-42e3-9693-d17a2f65a372",
   "metadata": {},
   "source": [
    "$M(X) = -2$  \n",
    "$D(X) = 16$  \n",
    "$\\sigma(X) = 4$"
   ]
  },
  {
   "cell_type": "markdown",
   "id": "4c2c4a9e-29d4-4991-aa22-036b59c204cd",
   "metadata": {},
   "source": [
    "### Задание 4."
   ]
  },
  {
   "cell_type": "markdown",
   "id": "7d3e7b03-f74e-43ed-8fb9-352e2257d6f4",
   "metadata": {},
   "source": [
    "Рост взрослого населения города X имеет нормальное распределение.\n",
    "Причем, средний рост равен 174 см, а среднее квадратичное отклонение равно 8 см.\n",
    "Какова вероятность того, что случайным образом выбранный взрослый человек имеет рост:  \n",
    "\n",
    "а). больше 182 см  \n",
    "б). больше 190 см  \n",
    "в). от 166 см до 190 см  \n",
    "г). от 166 см до 182 см  \n",
    "д). от 158 см до 190 см  \n",
    "е). не выше 150 см или не ниже 190 см  \n",
    "ё). не выше 150 см или не ниже 198 см  \n",
    "ж). ниже 166 см."
   ]
  },
  {
   "cell_type": "markdown",
   "id": "a4bf6d54-cc00-4fc1-9d8b-37442f89416a",
   "metadata": {},
   "source": [
    "#### Решение:"
   ]
  },
  {
   "cell_type": "markdown",
   "id": "3555de0f-638a-4d0e-a4d4-890c1de3c8e8",
   "metadata": {},
   "source": [
    "а). больше 182 см "
   ]
  },
  {
   "cell_type": "code",
   "execution_count": 16,
   "id": "555cedae-528f-4d26-8d75-7ee278db5c7a",
   "metadata": {},
   "outputs": [
    {
     "data": {
      "text/plain": [
       "0.15865525393145707"
      ]
     },
     "execution_count": 16,
     "metadata": {},
     "output_type": "execute_result"
    }
   ],
   "source": [
    "1-norm.cdf(1)"
   ]
  },
  {
   "cell_type": "markdown",
   "id": "eb6a18af-d9e7-4176-9972-229e7974e937",
   "metadata": {},
   "source": [
    "б). больше 190 см  "
   ]
  },
  {
   "cell_type": "code",
   "execution_count": 17,
   "id": "dfa1fc80-0859-4b8f-93a5-7d97bfa5ec36",
   "metadata": {},
   "outputs": [
    {
     "data": {
      "text/plain": [
       "0.02275013194817921"
      ]
     },
     "execution_count": 17,
     "metadata": {},
     "output_type": "execute_result"
    }
   ],
   "source": [
    "1-norm.cdf(2)"
   ]
  },
  {
   "cell_type": "markdown",
   "id": "16297392-aeca-4e5a-84ed-2c27b4340e8c",
   "metadata": {},
   "source": [
    "в). от 166 см до 190 см "
   ]
  },
  {
   "cell_type": "code",
   "execution_count": 21,
   "id": "29a06d8c-4994-4490-bee5-75e96b683b4c",
   "metadata": {},
   "outputs": [
    {
     "data": {
      "text/plain": [
       "0.8185946141203637"
      ]
     },
     "execution_count": 21,
     "metadata": {},
     "output_type": "execute_result"
    }
   ],
   "source": [
    "norm.cdf(2) - norm.cdf(-1)"
   ]
  },
  {
   "cell_type": "markdown",
   "id": "72cddab0-53e4-4857-992f-33c2b8189f1a",
   "metadata": {},
   "source": [
    "г). от 166 см до 182 см"
   ]
  },
  {
   "cell_type": "code",
   "execution_count": 22,
   "id": "254f4f67-ea76-46cd-948c-145807d190f6",
   "metadata": {},
   "outputs": [
    {
     "data": {
      "text/plain": [
       "0.6826894921370859"
      ]
     },
     "execution_count": 22,
     "metadata": {},
     "output_type": "execute_result"
    }
   ],
   "source": [
    "norm.cdf(1) - norm.cdf(-1)"
   ]
  },
  {
   "cell_type": "markdown",
   "id": "3335c3ad-ee8b-4e53-bb75-db7ee4223216",
   "metadata": {},
   "source": [
    "д). от 158 см до 190 см  "
   ]
  },
  {
   "cell_type": "code",
   "execution_count": 23,
   "id": "2fc6c9a1-6c79-43f9-9f8e-940840da39a2",
   "metadata": {},
   "outputs": [
    {
     "data": {
      "text/plain": [
       "0.9544997361036416"
      ]
     },
     "execution_count": 23,
     "metadata": {},
     "output_type": "execute_result"
    }
   ],
   "source": [
    "norm.cdf(2) - norm.cdf(-2)"
   ]
  },
  {
   "cell_type": "markdown",
   "id": "cff9859b-1b2a-4f70-9bef-7454c7e28201",
   "metadata": {},
   "source": [
    "е). не выше 150 см или не ниже 190 см"
   ]
  },
  {
   "cell_type": "code",
   "execution_count": 24,
   "id": "c0464e4e-c752-4efc-8139-4f95b4c9658f",
   "metadata": {},
   "outputs": [
    {
     "data": {
      "text/plain": [
       "0.0241000299798093"
      ]
     },
     "execution_count": 24,
     "metadata": {},
     "output_type": "execute_result"
    }
   ],
   "source": [
    "norm.cdf(-3) + (1-norm.cdf(2))"
   ]
  },
  {
   "cell_type": "markdown",
   "id": "57aa727a-bef6-4b63-8414-cb8c887c3aed",
   "metadata": {},
   "source": [
    "ё). не выше 150 см или не ниже 198 см"
   ]
  },
  {
   "cell_type": "code",
   "execution_count": 25,
   "id": "347b46b9-dd0e-40f0-8863-c8b5214c3c10",
   "metadata": {},
   "outputs": [
    {
     "data": {
      "text/plain": [
       "0.0026997960632601965"
      ]
     },
     "execution_count": 25,
     "metadata": {},
     "output_type": "execute_result"
    }
   ],
   "source": [
    "norm.cdf(-3) + (1-norm.cdf(3))"
   ]
  },
  {
   "cell_type": "markdown",
   "id": "609110ae-b2e0-4204-bf86-196bcfb92c7a",
   "metadata": {},
   "source": [
    "ж). ниже 166 см."
   ]
  },
  {
   "cell_type": "code",
   "execution_count": 26,
   "id": "87d02770-0864-4810-bca4-88a1efd808eb",
   "metadata": {},
   "outputs": [
    {
     "data": {
      "text/plain": [
       "0.15865525393145707"
      ]
     },
     "execution_count": 26,
     "metadata": {},
     "output_type": "execute_result"
    }
   ],
   "source": [
    "norm.cdf(-1)"
   ]
  },
  {
   "cell_type": "markdown",
   "id": "75201713-4eb4-4d57-abc2-edce3abd0578",
   "metadata": {},
   "source": [
    "#### Ответ:"
   ]
  },
  {
   "cell_type": "markdown",
   "id": "44f351f4-2077-4f43-8bac-76e86482e0f2",
   "metadata": {},
   "source": [
    "а). 16%  \n",
    "б). 2.27%  \n",
    "в). 81.9%  \n",
    "г). 68.2%  \n",
    "д). 95.4%  \n",
    "е). 2.41%  \n",
    "ё). 0.27%  \n",
    "ж). 16%"
   ]
  },
  {
   "cell_type": "markdown",
   "id": "b31a61f2-83ab-495a-8cb1-c245867d5279",
   "metadata": {},
   "source": [
    "### Задание 5."
   ]
  },
  {
   "cell_type": "markdown",
   "id": "692de7dc-0df8-469b-8929-932b76a3fc03",
   "metadata": {},
   "source": [
    " На сколько сигм (средних квадратичных отклонений) отклоняется рост человека, равный 190 см, от\n",
    "математического ожидания роста в популяции, в которой M(X) = 178 см и D(X) = 25 кв.см?"
   ]
  },
  {
   "cell_type": "markdown",
   "id": "a82259c6-b09f-4203-ab69-073adfd42b77",
   "metadata": {},
   "source": [
    "#### Решение:"
   ]
  },
  {
   "cell_type": "markdown",
   "id": "81f94a8a-073e-4428-9dc7-33328be4eb05",
   "metadata": {},
   "source": [
    "<font size=\"4\"> \n",
    "$$Z = \\frac{X-\\mu}{\\sigma}$$"
   ]
  },
  {
   "cell_type": "markdown",
   "id": "90f8d700-8f87-4d02-a3db-e0503afc3203",
   "metadata": {},
   "source": [
    "<font size=\"4\"> \n",
    "$Z=\\frac{190 - 178}{\\sqrt{25}} = \\frac{12}{5} = 2.4$"
   ]
  },
  {
   "cell_type": "code",
   "execution_count": 13,
   "id": "17db5a02-7805-471e-9cd1-dc09132d6863",
   "metadata": {},
   "outputs": [
    {
     "data": {
      "text/plain": [
       "2.4"
      ]
     },
     "execution_count": 13,
     "metadata": {},
     "output_type": "execute_result"
    }
   ],
   "source": [
    "12/5"
   ]
  }
 ],
 "metadata": {
  "kernelspec": {
   "display_name": "Python 3 (ipykernel)",
   "language": "python",
   "name": "python3"
  },
  "language_info": {
   "codemirror_mode": {
    "name": "ipython",
    "version": 3
   },
   "file_extension": ".py",
   "mimetype": "text/x-python",
   "name": "python",
   "nbconvert_exporter": "python",
   "pygments_lexer": "ipython3",
   "version": "3.8.13"
  }
 },
 "nbformat": 4,
 "nbformat_minor": 5
}
