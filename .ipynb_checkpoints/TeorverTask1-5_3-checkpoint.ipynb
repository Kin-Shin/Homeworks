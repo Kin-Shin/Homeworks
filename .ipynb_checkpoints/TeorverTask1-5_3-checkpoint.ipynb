{
 "cells": [
  {
   "cell_type": "code",
   "execution_count": 92,
   "id": "0ae9b7fb-1549-47b7-a8f8-decdacaa5bfa",
   "metadata": {},
   "outputs": [],
   "source": [
    "from math import factorial as fcl\n",
    "import numpy as np"
   ]
  },
  {
   "cell_type": "markdown",
   "id": "5e1b08cd-b3df-4094-b823-0ef6767598db",
   "metadata": {},
   "source": [
    "Формула расчёта кол-ва комбинаций:\n",
    "$$C_{n}^{k} = \\frac{n!}{k!(n-k)!}$$"
   ]
  },
  {
   "cell_type": "code",
   "execution_count": 14,
   "id": "c574ee2b-e330-4cd5-8a00-c0f318956eb5",
   "metadata": {},
   "outputs": [],
   "source": [
    "def comb(n, k):\n",
    "    C = fcl(n)/(fcl(k)*fcl(n-k))\n",
    "    return int(C)"
   ]
  },
  {
   "cell_type": "markdown",
   "id": "169df5cc-0abc-4202-98aa-93b912ff7616",
   "metadata": {},
   "source": [
    "Формула расчёта вероятности:\n",
    "$$P(A) = \\frac{m}{n}$$"
   ]
  },
  {
   "cell_type": "code",
   "execution_count": 34,
   "id": "e4017629-83f9-4d1d-89f8-96881eaf3135",
   "metadata": {},
   "outputs": [],
   "source": [
    "def ver(m, n):\n",
    "    P = m/n\n",
    "    return float(P)"
   ]
  },
  {
   "cell_type": "markdown",
   "id": "18db5177-a356-4483-927b-3e8751aed93c",
   "metadata": {},
   "source": [
    "Формула Байеса:\n",
    "$$P(B|A)=\\frac{P(B) \\cdot P(A|B)}{P(A)}$$"
   ]
  },
  {
   "cell_type": "markdown",
   "id": "6ddca030-233c-4165-8afa-bd60013002e8",
   "metadata": {},
   "source": [
    "### Задание 1."
   ]
  },
  {
   "cell_type": "markdown",
   "id": "0c7ded4d-6013-4064-90a7-6101b8b05961",
   "metadata": {},
   "source": [
    "Даны значения зарплат из выборки выпускников: 100, 80, 75, 77, 89, 33, 45, 25, 65, 17, 30, 24, 57, 55, 70, 75, 65, 84, 90, 150. Посчитать (желательно без использования статистических методов наподобие std, var, mean) среднее арифметическое, среднее квадратичное отклонение, смещенную и несмещенную оценки дисперсий для данной выборки"
   ]
  },
  {
   "cell_type": "markdown",
   "id": "ce69bac6-06bc-4034-8a67-3ddb4a73c927",
   "metadata": {},
   "source": [
    "#### Решение:"
   ]
  },
  {
   "cell_type": "code",
   "execution_count": 84,
   "id": "7b871b89-a03f-498c-bcf7-82de6a11479e",
   "metadata": {},
   "outputs": [
    {
     "data": {
      "text/plain": [
       "array([100,  80,  75,  77,  89,  33,  45,  25,  65,  17,  30,  24,  57,\n",
       "        55,  70,  75,  65,  84,  90, 150])"
      ]
     },
     "execution_count": 84,
     "metadata": {},
     "output_type": "execute_result"
    }
   ],
   "source": [
    "salary = np.array([100, 80, 75, 77, 89, 33, 45, 25, 65, 17, 30, 24, 57, 55, 70, 75, 65, 84, 90, 150])"
   ]
  },
  {
   "cell_type": "markdown",
   "id": "a85b588b-3e78-40bb-9d0f-aed0cc08726b",
   "metadata": {},
   "source": [
    "Среднее арифметическое:"
   ]
  },
  {
   "cell_type": "code",
   "execution_count": 86,
   "id": "2d6655b5-335d-4737-8259-ebfd7f9105bc",
   "metadata": {},
   "outputs": [
    {
     "data": {
      "text/plain": [
       "65.3"
      ]
     },
     "execution_count": 86,
     "metadata": {},
     "output_type": "execute_result"
    }
   ],
   "source": [
    "average = sum(salary)/len(salary)\n",
    "average"
   ]
  },
  {
   "cell_type": "markdown",
   "id": "4fb5f85f-33f9-41b5-b44e-dda8fe0008cc",
   "metadata": {},
   "source": [
    "проверка:"
   ]
  },
  {
   "cell_type": "code",
   "execution_count": 96,
   "id": "4ac06799-6fb8-42c7-8f03-7f8ce6b0c4b0",
   "metadata": {},
   "outputs": [
    {
     "data": {
      "text/plain": [
       "65.3"
      ]
     },
     "execution_count": 96,
     "metadata": {},
     "output_type": "execute_result"
    }
   ],
   "source": [
    "np.mean(salary)"
   ]
  },
  {
   "cell_type": "markdown",
   "id": "bee12536-2119-417f-9c80-65ef4e30fbd8",
   "metadata": {},
   "source": [
    "Среднее квадратичное отклонение:"
   ]
  },
  {
   "cell_type": "code",
   "execution_count": 94,
   "id": "23bae718-ace1-4735-864d-3d89624ddd08",
   "metadata": {},
   "outputs": [
    {
     "data": {
      "text/plain": [
       "30.823854398825596"
      ]
     },
     "execution_count": 94,
     "metadata": {},
     "output_type": "execute_result"
    }
   ],
   "source": [
    "E = 0\n",
    "for num in salary:\n",
    "    x = (num - average)**2\n",
    "    E += x\n",
    "S = np.sqrt(E/len(salary))\n",
    "S"
   ]
  },
  {
   "cell_type": "markdown",
   "id": "447d5d80-33c3-4fb2-b6f3-50d3d463d6d9",
   "metadata": {},
   "source": [
    "проверка:"
   ]
  },
  {
   "cell_type": "code",
   "execution_count": 95,
   "id": "852854b8-853c-4a78-950f-c8cc708a2c90",
   "metadata": {},
   "outputs": [
    {
     "data": {
      "text/plain": [
       "30.823854398825596"
      ]
     },
     "execution_count": 95,
     "metadata": {},
     "output_type": "execute_result"
    }
   ],
   "source": [
    "np.std(salary)"
   ]
  },
  {
   "cell_type": "markdown",
   "id": "23697bfb-db74-4a7b-9426-b016ca9e38d2",
   "metadata": {},
   "source": [
    "Смещённая оценка дисперсии:"
   ]
  },
  {
   "cell_type": "code",
   "execution_count": 97,
   "id": "744a48bf-922b-4588-809d-bf477f511792",
   "metadata": {},
   "outputs": [
    {
     "data": {
      "text/plain": [
       "950.11"
      ]
     },
     "execution_count": 97,
     "metadata": {},
     "output_type": "execute_result"
    }
   ],
   "source": [
    "E = 0\n",
    "for num in salary:\n",
    "    x = (num - average)**2\n",
    "    E += x\n",
    "D = E/len(salary)\n",
    "D"
   ]
  },
  {
   "cell_type": "markdown",
   "id": "70162d8f-c6e9-4859-80fc-415b388221e2",
   "metadata": {},
   "source": [
    "проверка:"
   ]
  },
  {
   "cell_type": "code",
   "execution_count": 98,
   "id": "5c77f5ba-a66d-489f-9cb9-298b8d48cab5",
   "metadata": {},
   "outputs": [
    {
     "data": {
      "text/plain": [
       "950.11"
      ]
     },
     "execution_count": 98,
     "metadata": {},
     "output_type": "execute_result"
    }
   ],
   "source": [
    "np.var(salary)"
   ]
  },
  {
   "cell_type": "markdown",
   "id": "89cd0ea2-4b1d-4c48-9ee3-f503e7ef885a",
   "metadata": {},
   "source": [
    "Несмещённая оценка дисперсии:"
   ]
  },
  {
   "cell_type": "code",
   "execution_count": 100,
   "id": "c7ebadd8-2030-4848-abce-f883a63a1254",
   "metadata": {},
   "outputs": [
    {
     "data": {
      "text/plain": [
       "1000.1157894736842"
      ]
     },
     "execution_count": 100,
     "metadata": {},
     "output_type": "execute_result"
    }
   ],
   "source": [
    "E = 0\n",
    "for num in salary:\n",
    "    x = (num - average)**2\n",
    "    E += x\n",
    "D_n = E/(len(salary)-1)\n",
    "D_n"
   ]
  },
  {
   "cell_type": "markdown",
   "id": "d718ba97-4ef5-4851-95bf-fea372c87a12",
   "metadata": {},
   "source": [
    "### Задание 2."
   ]
  },
  {
   "cell_type": "markdown",
   "id": "74c160f6-2e84-4416-b69c-5e4949a55e4e",
   "metadata": {},
   "source": [
    " В первом ящике находится 8 мячей, из которых 5 - белые. Во втором ящике - 12 мячей, из которых 5 белых. Из первого ящика вытаскивают случайным образом два мяча, из второго - 4. Какова вероятность того, что 3 мяча белые?"
   ]
  },
  {
   "cell_type": "markdown",
   "id": "f3fad75a-5af5-4e78-a3e7-066d82534dee",
   "metadata": {},
   "source": [
    "#### Решение:"
   ]
  },
  {
   "cell_type": "markdown",
   "id": "497f0d08-dfc8-4dd2-995f-88047ad05372",
   "metadata": {},
   "source": [
    "Для выполнения условия задачи:\n",
    "из первого ящика можно вытащить или 2, или 1, или 0 белых;\n",
    "из второгоя ящика можно вытащить или 4, или 3, или 2, или 1 белый"
   ]
  },
  {
   "cell_type": "markdown",
   "id": "66dd7703-aa68-4b72-becc-efbdc63312b4",
   "metadata": {},
   "source": [
    "Рассчитаем количество комбинаций белых мячей в 1м ящике из 5 по 2:"
   ]
  },
  {
   "cell_type": "code",
   "execution_count": 57,
   "id": "ef05d999-a396-4ec3-837b-6463c296ff3a",
   "metadata": {},
   "outputs": [
    {
     "name": "stdout",
     "output_type": "stream",
     "text": [
      "количество комбинаций 2 белых 10 \n",
      "количество комбинаций 1 белого 5\n"
     ]
    }
   ],
   "source": [
    "comb2_5 = comb(5, 2)\n",
    "comb1_5= comb(5, 1)\n",
    "print(f'количество комбинаций 2 белых {comb2} \\nколичество комбинаций 1 белого {comb1}')"
   ]
  },
  {
   "cell_type": "markdown",
   "id": "55b6b91b-062b-45aa-a97b-e5c4d0493d50",
   "metadata": {},
   "source": [
    "Рассчитаем количество комбинаций белых мячей в 1м ящике из 8 по 2:"
   ]
  },
  {
   "cell_type": "code",
   "execution_count": 58,
   "id": "de89c167-7187-4f0e-b821-43dfba266733",
   "metadata": {},
   "outputs": [
    {
     "name": "stdout",
     "output_type": "stream",
     "text": [
      "количество комбинаций 2 белых 28 \n",
      "количество комбинаций 1 белого 8\n"
     ]
    }
   ],
   "source": [
    "comb2_8 = comb(8, 2)\n",
    "comb1_8 = comb(8, 1)\n",
    "print(f'количество комбинаций 2 белых {comb2_8} \\nколичество комбинаций 1 белого {comb1_8}')"
   ]
  },
  {
   "cell_type": "markdown",
   "id": "a22a2801-1579-4020-a085-2a8f3bb93165",
   "metadata": {},
   "source": [
    "Рассчитаем вероятности для первого ящика:"
   ]
  },
  {
   "cell_type": "code",
   "execution_count": 53,
   "id": "196ed693-8d62-4247-90cc-7316d2e8ebd2",
   "metadata": {},
   "outputs": [
    {
     "name": "stdout",
     "output_type": "stream",
     "text": [
      " вероятность извлечения 2 белых 0.35714285714285715 \n",
      " вероятность извлечения 1 белого 0.625 \n",
      " вероятность извлечения 0 белых 0.375\n"
     ]
    }
   ],
   "source": [
    "ver2_1 = ver(comb2_5, comb2_8)\n",
    "ver1_1 = ver(comb1_5, comb1_8)\n",
    "ver0_1 = 1 - ver1_1\n",
    "print(f' вероятность извлечения 2 белых {ver2_1} \\n вероятность извлечения 1 белого {ver1_1} \\n вероятность извлечения 0 белых {ver0_1}')"
   ]
  },
  {
   "cell_type": "markdown",
   "id": "a1e44b37-1dcc-4d11-9a29-41fce9992bbc",
   "metadata": {},
   "source": [
    "Рассчитаем количество комбинаций белых мячей во 2м ящике из 5 по 4:"
   ]
  },
  {
   "cell_type": "code",
   "execution_count": 46,
   "id": "cfb72186-4309-499e-ae5e-baee083b21ec",
   "metadata": {},
   "outputs": [
    {
     "name": "stdout",
     "output_type": "stream",
     "text": [
      " количество комбинаций 4 белых 5 \n",
      " количество комбинаций 3 белых 10 \n",
      " количество комбинаций 2 белых 10 \n",
      " количество комбинаций 1 белого 5\n"
     ]
    }
   ],
   "source": [
    "comb4_5 = comb(5, 4)\n",
    "comb3_5= comb(5, 3)\n",
    "comb2_5 = comb(5, 2)\n",
    "comb1_5 = comb(5, 1)\n",
    "print(f' количество комбинаций 4 белых {comb4_5} \\n количество комбинаций 3 белых {comb3_5} \\n количество комбинаций 2 белых {comb2_5} \\n количество комбинаций 1 белого {comb1_5}')"
   ]
  },
  {
   "cell_type": "markdown",
   "id": "80ffde9f-a7d2-4168-9e1d-3b127991d764",
   "metadata": {},
   "source": [
    "Рассчитаем количество комбинаций белых мячей во 2м ящике из 12 по 4:"
   ]
  },
  {
   "cell_type": "code",
   "execution_count": 48,
   "id": "c0efe4dc-132d-42c8-8f9a-e828efc45a0b",
   "metadata": {},
   "outputs": [
    {
     "name": "stdout",
     "output_type": "stream",
     "text": [
      " количество комбинаций 4 белых 495 \n",
      " количество комбинаций 3 белых 220 \n",
      " количество комбинаций 2 белых 66 \n",
      " количество комбинаций 1 белого 12\n"
     ]
    }
   ],
   "source": [
    "comb4_12 = comb(12, 4)\n",
    "comb3_12= comb(12, 3)\n",
    "comb2_12 = comb(12, 2)\n",
    "comb1_12 = comb(12, 1)\n",
    "print(f' количество комбинаций 4 белых {comb4_12} \\n количество комбинаций 3 белых {comb3_12} \\n количество комбинаций 2 белых {comb2_12} \\n количество комбинаций 1 белого {comb1_12}')"
   ]
  },
  {
   "cell_type": "markdown",
   "id": "2e66c847-ddd4-41f2-9ded-7fb3e5f05b75",
   "metadata": {},
   "source": [
    "Рассчитаем вероятности для второго ящика:"
   ]
  },
  {
   "cell_type": "code",
   "execution_count": 54,
   "id": "21cf1d97-5df3-4518-bc1c-41c764555c2b",
   "metadata": {
    "tags": []
   },
   "outputs": [
    {
     "name": "stdout",
     "output_type": "stream",
     "text": [
      " вероятность извлечения 4 белых 0.010101010101010102 \n",
      " вероятность извлечения 3 белых 0.045454545454545456 \n",
      " вероятность извлечения 2 белых 0.15151515151515152 \n",
      " вероятность извлечения 1 белого 0.4166666666666667 \n",
      " вероятность извлечения 0 белых 0.5833333333333333\n"
     ]
    }
   ],
   "source": [
    "ver4_2 = ver(comb4_5, comb4_12)\n",
    "ver3_2 = ver(comb3_5, comb3_12)\n",
    "ver2_2 = ver(comb2_5, comb2_12)\n",
    "ver1_2 = ver(comb1_5, comb1_12)\n",
    "ver0_2 = 1 - ver1_2\n",
    "print(f' вероятность извлечения 4 белых {ver4_2} \\n вероятность извлечения 3 белых {ver3_2} \\n вероятность извлечения 2 белых {ver2_2} \\n вероятность извлечения 1 белого {ver1_2} \\n вероятность извлечения 0 белых {ver0_2}')"
   ]
  },
  {
   "cell_type": "markdown",
   "id": "646afd24-7211-4990-976e-256a3408535a",
   "metadata": {},
   "source": [
    "Рассчитаем возможные комбинации из двух ящиков:"
   ]
  },
  {
   "cell_type": "code",
   "execution_count": 55,
   "id": "9f98d05f-06d7-40d5-9b7f-36f8ae51aa17",
   "metadata": {},
   "outputs": [],
   "source": [
    "first_0second_4 = ver0_1 * ver4_2\n",
    "first_0second_3 = ver0_1 * ver3_2\n",
    "first_1second_2 = ver1_1 * ver2_2\n",
    "first_2second_1 = ver2_1 * ver1_2"
   ]
  },
  {
   "cell_type": "code",
   "execution_count": 56,
   "id": "73192676-f544-4526-ba25-536195a56e4f",
   "metadata": {},
   "outputs": [
    {
     "data": {
      "text/plain": [
       "0.2643398268398268"
      ]
     },
     "execution_count": 56,
     "metadata": {},
     "output_type": "execute_result"
    }
   ],
   "source": [
    "verall = first_0second_4 + first_0second_3 + first_1second_2 + first_2second_1\n",
    "verall"
   ]
  },
  {
   "cell_type": "markdown",
   "id": "1788f6e6-4e70-4880-8f70-d6977945996c",
   "metadata": {},
   "source": [
    "#### Ответ:"
   ]
  },
  {
   "cell_type": "markdown",
   "id": "085d9f6a-d304-4fd2-b4da-e45ae9551b5f",
   "metadata": {},
   "source": [
    "Вероятность того, что 3 мяча белые 26.4%"
   ]
  },
  {
   "cell_type": "markdown",
   "id": "c1e7b95e-74f4-44a3-b0f2-0c7d26093b99",
   "metadata": {
    "tags": []
   },
   "source": [
    "### Задание 3."
   ]
  },
  {
   "cell_type": "markdown",
   "id": "6a34bd9f-d806-4a26-aac3-11cb0c76b13b",
   "metadata": {},
   "source": [
    "На соревновании по биатлону один из трех спортсменов стреляет и попадает в мишень. Вероятность попадания для первого спортсмена равна 0.9, для второго — 0.8, для третьего — 0.6. Найти вероятность того, что выстрел произведен: a). первым спортсменом б). вторым спортсменом в). третьим спортсменом."
   ]
  },
  {
   "cell_type": "markdown",
   "id": "4afb1225-c1f0-44db-a255-988f4f5c7dd7",
   "metadata": {},
   "source": [
    "#### Решение:"
   ]
  },
  {
   "cell_type": "markdown",
   "id": "ba28b5fb-8702-472e-bb3c-178c0710f1ad",
   "metadata": {},
   "source": [
    "Используем формулу Байеса и формулу полной вероятности:\n",
    "$$P(B|A)=\\frac{P(B) \\cdot P(A|B)}{P(A)}$$\n",
    "$$P(A)=P(B_1) \\cdot P(A|B_1) + P(B_2) \\cdot P(A|B_2) + ... +  P(B_n) \\cdot P(A|B_n)$$"
   ]
  },
  {
   "cell_type": "markdown",
   "id": "badd242c-ea9f-4e63-8076-5d55eff0d742",
   "metadata": {},
   "source": [
    "\n",
    "$P(A) = \\frac{1}{3} \\cdot 0.9 + \\frac{1}{3} \\cdot 0.8 + \\frac{1}{3} \\cdot 0.6 = \\frac{2.3}{3} \\approx 0.77$ "
   ]
  },
  {
   "cell_type": "code",
   "execution_count": 13,
   "id": "dd3c9426-d405-44ec-a66d-c5de8800bef8",
   "metadata": {
    "tags": []
   },
   "outputs": [
    {
     "data": {
      "text/plain": [
       "0.7666666666666667"
      ]
     },
     "execution_count": 13,
     "metadata": {},
     "output_type": "execute_result"
    }
   ],
   "source": [
    "(0.9+0.8+0.6)/3"
   ]
  },
  {
   "cell_type": "markdown",
   "id": "6ad11e1e-bbeb-4940-a916-d286f5641028",
   "metadata": {},
   "source": [
    "a). $P(B_1|A)=\\frac{\\frac{1}{3} \\cdot 0.9}{0.77} = \\frac{0.3}{0.77} \\approx 0.389 \\; (38.9\\%)$"
   ]
  },
  {
   "cell_type": "code",
   "execution_count": 17,
   "id": "6116a2d7-a154-44f4-ada1-afd1b699aee5",
   "metadata": {
    "tags": []
   },
   "outputs": [
    {
     "data": {
      "text/plain": [
       "0.3896103896103896"
      ]
     },
     "execution_count": 17,
     "metadata": {},
     "output_type": "execute_result"
    }
   ],
   "source": [
    "0.3/0.77"
   ]
  },
  {
   "cell_type": "markdown",
   "id": "6f05141f-e10d-4934-86ea-34697beaa38c",
   "metadata": {},
   "source": [
    "б). $P(B_2|A)=\\frac{\\frac{1}{3} \\cdot 0.8}{0.77} \\approx 0.346 \\; (34.6\\%)$"
   ]
  },
  {
   "cell_type": "code",
   "execution_count": 62,
   "id": "7b428ec5-9043-465c-b560-16e8d0b33f74",
   "metadata": {},
   "outputs": [
    {
     "data": {
      "text/plain": [
       "0.3463203463203463"
      ]
     },
     "execution_count": 62,
     "metadata": {},
     "output_type": "execute_result"
    }
   ],
   "source": [
    "(0.8/3)/0.77"
   ]
  },
  {
   "cell_type": "markdown",
   "id": "bb0a7e05-af2c-421a-b4ec-248524fade10",
   "metadata": {},
   "source": [
    "d). $P(B_3|A)=\\frac{\\frac{1}{3} \\cdot 0.6}{0.77} = \\frac{0.2}{0.77} \\approx 0.259 \\; (25.9\\%)$"
   ]
  },
  {
   "cell_type": "code",
   "execution_count": 63,
   "id": "b0af5bcf-5aad-4544-a58c-dfec4a681343",
   "metadata": {
    "tags": []
   },
   "outputs": [
    {
     "data": {
      "text/plain": [
       "0.25974025974025977"
      ]
     },
     "execution_count": 63,
     "metadata": {},
     "output_type": "execute_result"
    }
   ],
   "source": [
    "0.2/0.77"
   ]
  },
  {
   "cell_type": "markdown",
   "id": "c326b9cc-18d8-4f53-891f-540853ff4eb6",
   "metadata": {},
   "source": [
    "#### Ответ:"
   ]
  },
  {
   "cell_type": "markdown",
   "id": "7cb11caa-ab4b-438b-9745-472e3b92f782",
   "metadata": {},
   "source": [
    "a) $\\approx 39\\%$ б) $\\approx 35\\%$ в) $\\approx 26\\%$"
   ]
  },
  {
   "cell_type": "markdown",
   "id": "4c2c4a9e-29d4-4991-aa22-036b59c204cd",
   "metadata": {},
   "source": [
    "### Задание 4."
   ]
  },
  {
   "cell_type": "markdown",
   "id": "7d3e7b03-f74e-43ed-8fb9-352e2257d6f4",
   "metadata": {},
   "source": [
    "В университет на факультеты A и B поступило равное количество студентов, а на факультет C студентов поступило столько же, сколько на A и B вместе. Вероятность того, что студент факультета A сдаст первую сессию, равна 0.8. Для студента факультета B эта вероятность равна 0.7, а для студента факультета C - 0.9. Студент сдал первую сессию. Какова вероятность, что он учится: a). на факультете A б). на факультете B в). на факультете C?"
   ]
  },
  {
   "cell_type": "markdown",
   "id": "a4bf6d54-cc00-4fc1-9d8b-37442f89416a",
   "metadata": {},
   "source": [
    "#### Решение:"
   ]
  },
  {
   "cell_type": "markdown",
   "id": "4b899181-3926-45e1-bd04-6207f824440d",
   "metadata": {},
   "source": [
    "Используем формулу Байеса и формулу полной вероятности:\n",
    "$$P(B|A)=\\frac{P(B) \\cdot P(A|B)}{P(A)}$$\n",
    "$$P(A)=P(B_1) \\cdot P(A|B_1) + P(B_2) \\cdot P(A|B_2) + ... +  P(B_n) \\cdot P(A|B_n)$$"
   ]
  },
  {
   "cell_type": "markdown",
   "id": "a9477635-2d93-4a93-97ff-d9bdeb496222",
   "metadata": {},
   "source": [
    "$A+B+C = \\frac{1}{4} + \\frac{1}{4} + \\frac{1}{2} = 1$"
   ]
  },
  {
   "cell_type": "markdown",
   "id": "7a51feb1-76f1-43bf-88b0-56a749d17800",
   "metadata": {},
   "source": [
    "\n",
    "$P(A) = \\frac{1}{4} \\cdot 0.8 + \\frac{1}{4} \\cdot 0.7 + \\frac{1}{2} \\cdot 0.9 = 0.2 + 0.175 + 0.45 = 0.825$ "
   ]
  },
  {
   "cell_type": "markdown",
   "id": "5a79a2a6-b767-4576-9a30-f61e44348a31",
   "metadata": {},
   "source": [
    "a). $P(B_1|A)=\\frac{\\frac{1}{4} \\cdot 0.8}{0.825} = \\frac{0.2}{0.825} \\approx 0.242 \\; (24.2\\%)$"
   ]
  },
  {
   "cell_type": "code",
   "execution_count": 65,
   "id": "3c780f0b-f724-49fb-b801-21a4947a0fc2",
   "metadata": {},
   "outputs": [
    {
     "data": {
      "text/plain": [
       "0.24242424242424246"
      ]
     },
     "execution_count": 65,
     "metadata": {},
     "output_type": "execute_result"
    }
   ],
   "source": [
    "(0.8/4)/0.825"
   ]
  },
  {
   "cell_type": "markdown",
   "id": "5f22e908-3dbd-4dfd-9a40-b928fd20e519",
   "metadata": {},
   "source": [
    "б). $P(B_2|A)=\\frac{\\frac{1}{4} \\cdot 0.7}{0.825} \\approx 0.212 \\; (21.2\\%)$"
   ]
  },
  {
   "cell_type": "code",
   "execution_count": 66,
   "id": "72065f10-ddc5-4301-b538-00f0f2f52449",
   "metadata": {},
   "outputs": [
    {
     "data": {
      "text/plain": [
       "0.21212121212121213"
      ]
     },
     "execution_count": 66,
     "metadata": {},
     "output_type": "execute_result"
    }
   ],
   "source": [
    "(0.7/4)/0.825"
   ]
  },
  {
   "cell_type": "markdown",
   "id": "5d4a3014-3b36-408d-967d-ac936bcd9545",
   "metadata": {},
   "source": [
    "в). $P(B_3|A)=\\frac{\\frac{1}{2} \\cdot 0.9}{0.825} = \\frac{0.45}{0.825} \\approx 0.545 \\; (54.5\\%)$"
   ]
  },
  {
   "cell_type": "code",
   "execution_count": 67,
   "id": "3146e349-e9d7-4001-8091-347c4cb27ef0",
   "metadata": {},
   "outputs": [
    {
     "data": {
      "text/plain": [
       "0.5454545454545455"
      ]
     },
     "execution_count": 67,
     "metadata": {},
     "output_type": "execute_result"
    }
   ],
   "source": [
    "(0.9/2)/0.825"
   ]
  },
  {
   "cell_type": "markdown",
   "id": "75201713-4eb4-4d57-abc2-edce3abd0578",
   "metadata": {},
   "source": [
    "#### Ответ:"
   ]
  },
  {
   "cell_type": "markdown",
   "id": "9e297784-d8fe-40ec-9e64-3a075ad943f3",
   "metadata": {},
   "source": [
    "a) $\\approx 24.2\\%$ б) $\\approx 21.2\\%$ в) $\\approx 54.5\\%$"
   ]
  },
  {
   "cell_type": "markdown",
   "id": "b31a61f2-83ab-495a-8cb1-c245867d5279",
   "metadata": {},
   "source": [
    "### Задание 5."
   ]
  },
  {
   "cell_type": "markdown",
   "id": "692de7dc-0df8-469b-8929-932b76a3fc03",
   "metadata": {},
   "source": [
    "Устройство состоит из трех деталей. Для первой детали вероятность выйти из строя в первый месяц равна 0.1, для второй - 0.2, для третьей - 0.25. Какова вероятность того, что в первый месяц выйдут из строя: а). все детали б). только две детали в). хотя бы одна деталь г). от одной до двух деталей?"
   ]
  },
  {
   "cell_type": "markdown",
   "id": "a82259c6-b09f-4203-ab69-073adfd42b77",
   "metadata": {},
   "source": [
    "#### Решение:"
   ]
  },
  {
   "cell_type": "markdown",
   "id": "90972471-8c8d-4230-a555-8087133d16d6",
   "metadata": {},
   "source": [
    "Используем формулу Байеса и формулу полной вероятности:\n",
    "$$P(B|A)=\\frac{P(B) \\cdot P(A|B)}{P(A)}$$\n",
    "$$P(A)=P(B_1) \\cdot P(A|B_1) + P(B_2) \\cdot P(A|B_2) + ... +  P(B_n) \\cdot P(A|B_n)$$"
   ]
  },
  {
   "cell_type": "markdown",
   "id": "f5c77522-49ab-42a5-94a8-d212b732fa6e",
   "metadata": {},
   "source": [
    "\n",
    "$P(A) = \\frac{1}{3} \\cdot 0.1 + \\frac{1}{3} \\cdot 0.2 + \\frac{1}{3} \\cdot 0.25 = \\frac{0.55}{3} \\approx 0.183$ "
   ]
  },
  {
   "cell_type": "code",
   "execution_count": 68,
   "id": "fe03f235-1dbf-490a-981e-9bb08cf5a859",
   "metadata": {
    "tags": []
   },
   "outputs": [
    {
     "data": {
      "text/plain": [
       "0.18333333333333335"
      ]
     },
     "execution_count": 68,
     "metadata": {},
     "output_type": "execute_result"
    }
   ],
   "source": [
    "0.55/3"
   ]
  },
  {
   "cell_type": "markdown",
   "id": "128cf8fc-a237-4cf7-917b-5e23e8dbaa12",
   "metadata": {},
   "source": [
    "a). Вероятность, что все детали выйдут из строя будет равна $P(B_1|A) \\cdot P(B_2|A) \\cdot P(B_3|A)$"
   ]
  },
  {
   "cell_type": "markdown",
   "id": "964da79f-8a9f-48ed-a9f6-07811c3cde56",
   "metadata": {},
   "source": [
    "$P(B_1|A)=\\frac{\\frac{1}{3} \\cdot 0.1}{0.183} \\approx 0.182 \\; (18.2\\%)$"
   ]
  },
  {
   "cell_type": "code",
   "execution_count": 69,
   "id": "cf0ea3bf-49b9-4045-9057-923abb196b62",
   "metadata": {},
   "outputs": [
    {
     "data": {
      "text/plain": [
       "0.18214936247723132"
      ]
     },
     "execution_count": 69,
     "metadata": {},
     "output_type": "execute_result"
    }
   ],
   "source": [
    "(1/3 * 0.1)/0.183"
   ]
  },
  {
   "cell_type": "markdown",
   "id": "6aa58a46-6f71-4cee-a231-d4355e33b3a2",
   "metadata": {},
   "source": [
    "$P(B_2|A)=\\frac{\\frac{1}{3} \\cdot 0.2}{0.183} \\approx 0.364 \\; (36.4\\%)$"
   ]
  },
  {
   "cell_type": "code",
   "execution_count": 70,
   "id": "536348bd-7a59-4402-b0b4-bf880faf6bab",
   "metadata": {},
   "outputs": [
    {
     "data": {
      "text/plain": [
       "0.36429872495446264"
      ]
     },
     "execution_count": 70,
     "metadata": {},
     "output_type": "execute_result"
    }
   ],
   "source": [
    "(1/3 * 0.2)/0.183"
   ]
  },
  {
   "cell_type": "markdown",
   "id": "98480790-118d-4847-afff-77bcdc28745b",
   "metadata": {},
   "source": [
    "$P(B_3|A)=\\frac{\\frac{1}{3} \\cdot 0.25}{0.183} \\approx 0.455 \\; (45.5\\%)$"
   ]
  },
  {
   "cell_type": "code",
   "execution_count": 71,
   "id": "467d2b26-2156-44ab-a101-922cb72751ed",
   "metadata": {},
   "outputs": [
    {
     "data": {
      "text/plain": [
       "0.4553734061930783"
      ]
     },
     "execution_count": 71,
     "metadata": {},
     "output_type": "execute_result"
    }
   ],
   "source": [
    "(1/3 * 0.25)/0.183"
   ]
  },
  {
   "cell_type": "markdown",
   "id": "8d9ed1cb-7df5-4ce9-8a4a-570e1c5b2036",
   "metadata": {},
   "source": [
    "$P(B_1|A) \\cdot P(B_2|A) \\cdot P(B_3|A) = 0.182 \\cdot 0.364 \\cdot 0.455 \\approx 0.030 \\; (3.0\\%)$"
   ]
  },
  {
   "cell_type": "code",
   "execution_count": 72,
   "id": "0c5d85dc-1493-4653-9c35-0563457bcc2e",
   "metadata": {},
   "outputs": [
    {
     "data": {
      "text/plain": [
       "0.03014284"
      ]
     },
     "execution_count": 72,
     "metadata": {},
     "output_type": "execute_result"
    }
   ],
   "source": [
    "0.182 * 0.364 * 0.455"
   ]
  },
  {
   "cell_type": "markdown",
   "id": "6ba5dcb3-beb3-4afc-9c39-800ccc07963e",
   "metadata": {},
   "source": [
    "б). Вероятность, что только две детали выйдут из строя будет равна $P(B_1|A) + P(B_2|A) + P(B_3|A) + P(B_1|A) \\cdot P(B_2|A) + (B_1|A) \\cdot P(B_3|A) + (B_2|A) \\cdot P(B_3|A) \\approx 0.314 \\; (31.4\\%)$"
   ]
  },
  {
   "cell_type": "code",
   "execution_count": 76,
   "id": "85129b1d-ea2a-4cb8-96a4-7f351078eefb",
   "metadata": {},
   "outputs": [
    {
     "data": {
      "text/plain": [
       "0.314678"
      ]
     },
     "execution_count": 76,
     "metadata": {},
     "output_type": "execute_result"
    }
   ],
   "source": [
    "0.182 * 0.364 + 0.182 * 0.455 + 0.364 * 0.455"
   ]
  },
  {
   "cell_type": "markdown",
   "id": "e912b702-a243-48f3-9756-6015def151b3",
   "metadata": {},
   "source": [
    "в). Вероятность, что хотя бы одна деталь выйдет из строя будет равна $1-P(B_0|A)$"
   ]
  },
  {
   "cell_type": "markdown",
   "id": "c443fd1c-d367-4c39-96d4-56a1f14506f2",
   "metadata": {},
   "source": [
    "$P(A) = 1 - 0.183 = 0.817$"
   ]
  },
  {
   "cell_type": "markdown",
   "id": "2638c52a-4ddb-400f-a42e-8686b90f018c",
   "metadata": {},
   "source": [
    "$P(B_0|A)=\\frac{\\frac{1}{4} \\cdot 0.45}{0.817} \\approx 0.137 \\; (13.7\\%)$"
   ]
  },
  {
   "cell_type": "code",
   "execution_count": 80,
   "id": "6493bbee-dd59-406d-b322-2717e56b2820",
   "metadata": {},
   "outputs": [
    {
     "data": {
      "text/plain": [
       "0.13769889840881275"
      ]
     },
     "execution_count": 80,
     "metadata": {},
     "output_type": "execute_result"
    }
   ],
   "source": [
    "(1/4 * 0.45)/0.817"
   ]
  },
  {
   "cell_type": "markdown",
   "id": "c26c3b2a-27f0-4718-a490-67c3bcaad74a",
   "metadata": {},
   "source": [
    "$1-P(B_0|A) = 1 - 0.137 = 0.863 \\; (86.3\\%)$"
   ]
  },
  {
   "cell_type": "markdown",
   "id": "f401de85-12d0-4692-a4c7-bc6ec7f5239f",
   "metadata": {},
   "source": [
    "г). Вероятность, что от одной до двух деталей выйдут из строя будет равна $(P(B_1|A) + P(B_2|A) + P(B_3|A)) \\cdot (P(B_1|A) \\cdot P(B_2|A) + (B_1|A) \\cdot P(B_3|A) + (B_2|A) \\cdot P(B_3|A)) \\approx 0.315 \\; (31.5\\%)$"
   ]
  },
  {
   "cell_type": "code",
   "execution_count": 79,
   "id": "46020764-8342-4451-8f71-22029d900ad9",
   "metadata": {},
   "outputs": [
    {
     "data": {
      "text/plain": [
       "0.314992678"
      ]
     },
     "execution_count": 79,
     "metadata": {},
     "output_type": "execute_result"
    }
   ],
   "source": [
    "(0.182 + 0.364 + 0.455) * (0.182 * 0.364 + 0.182 * 0.455 + 0.364 * 0.455)"
   ]
  },
  {
   "cell_type": "markdown",
   "id": "22e81692-29c2-4fff-99e2-ca9693ee69c6",
   "metadata": {},
   "source": [
    "#### Ответ:"
   ]
  },
  {
   "cell_type": "markdown",
   "id": "33b30e14-147c-4aab-be41-5afb55b28d4d",
   "metadata": {},
   "source": [
    "a) $\\approx 3.0\\%$ б) $\\approx 31.4\\%$ в) $\\approx 86.3\\%$ г) $\\approx 31.5\\%$"
   ]
  }
 ],
 "metadata": {
  "kernelspec": {
   "display_name": "Python 3 (ipykernel)",
   "language": "python",
   "name": "python3"
  },
  "language_info": {
   "codemirror_mode": {
    "name": "ipython",
    "version": 3
   },
   "file_extension": ".py",
   "mimetype": "text/x-python",
   "name": "python",
   "nbconvert_exporter": "python",
   "pygments_lexer": "ipython3",
   "version": "3.8.13"
  }
 },
 "nbformat": 4,
 "nbformat_minor": 5
}
