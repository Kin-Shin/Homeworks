{
 "cells": [
  {
   "cell_type": "markdown",
   "id": "6ddca030-233c-4165-8afa-bd60013002e8",
   "metadata": {},
   "source": [
    "### Задание 1."
   ]
  },
  {
   "cell_type": "markdown",
   "id": "5aa45474-a992-44cf-becb-d82644c286a8",
   "metadata": {},
   "source": [
    "Вероятность того, что стрелок попадет в мишень, выстрелив один раз, равна 0.8. Стрелок выстрелил 100 раз. Найдите вероятность того, что стрелок попадет в цель ровно 85 раз."
   ]
  },
  {
   "cell_type": "markdown",
   "id": "ce69bac6-06bc-4034-8a67-3ddb4a73c927",
   "metadata": {},
   "source": [
    "#### Решение:"
   ]
  },
  {
   "cell_type": "markdown",
   "id": "91f39460-fe5b-4a24-abc8-6fc336b27839",
   "metadata": {},
   "source": [
    "Используем формулу Бернулли для биномиального распределения:\n",
    "$$P_n(X=k)=C_{n}^{k}p^kq^{n-k}$$"
   ]
  },
  {
   "cell_type": "markdown",
   "id": "26cdf79e-8d23-4816-ab05-b22fda8ae501",
   "metadata": {},
   "source": [
    "$P_{100}(k=85)=C_{100}^{85} \\cdot 0.8^{85} \\cdot 0.2^{100-85} = \\frac{100!}{85! \\cdot (100-85)!} \\cdot 0.8^{85} \\cdot 0.2^{15}  \\approx 0.048 \\; (4.8\\%)$"
   ]
  },
  {
   "cell_type": "code",
   "execution_count": 2,
   "id": "0ae9b7fb-1549-47b7-a8f8-decdacaa5bfa",
   "metadata": {},
   "outputs": [],
   "source": [
    "from math import factorial as fcl\n",
    "import numpy as np"
   ]
  },
  {
   "cell_type": "code",
   "execution_count": 14,
   "id": "d7872f5f-40cc-40b2-b364-a0909456f05b",
   "metadata": {},
   "outputs": [
    {
     "data": {
      "text/plain": [
       "0.048061793700746556"
      ]
     },
     "execution_count": 14,
     "metadata": {},
     "output_type": "execute_result"
    }
   ],
   "source": [
    "P = (fcl(100) / (fcl(85) * fcl(15))) * (0.8**85) * (0.2**15)\n",
    "P"
   ]
  },
  {
   "cell_type": "markdown",
   "id": "d718ba97-4ef5-4851-95bf-fea372c87a12",
   "metadata": {},
   "source": [
    "### Задание 2."
   ]
  },
  {
   "cell_type": "markdown",
   "id": "952f4952-2885-4c58-b722-0e5d32af9457",
   "metadata": {},
   "source": [
    "Вероятность того, что лампочка перегорит в течение первого дня эксплуатации, равна 0.0004. В жилом комплексе после ремонта в один день включили 5000 новых лампочек. Какова вероятность, что ни одна из них не перегорит в первый день? Какова вероятность, что перегорят ровно две?"
   ]
  },
  {
   "cell_type": "markdown",
   "id": "f3fad75a-5af5-4e78-a3e7-066d82534dee",
   "metadata": {},
   "source": [
    "#### Решение:"
   ]
  },
  {
   "cell_type": "markdown",
   "id": "63f771dc-0c0a-4c53-adb7-3600e89b741c",
   "metadata": {},
   "source": [
    "Используем распределение Пуассона:\n",
    "$$P_m \\approx \\frac{\\lambda^{m}}{m!}e^{-\\lambda}$$"
   ]
  },
  {
   "cell_type": "markdown",
   "id": "a6f1ead1-f570-41b8-b9ce-aa9ebe23cfc0",
   "metadata": {},
   "source": [
    "$\\lambda = p \\cdot n = 0.0004 \\cdot 5000 = 2$"
   ]
  },
  {
   "cell_type": "markdown",
   "id": "4f9a4d49-cbae-413e-b4e4-d96583a2c68d",
   "metadata": {},
   "source": [
    "Вероятность, что лампочка не перегорит в первый день:"
   ]
  },
  {
   "cell_type": "markdown",
   "id": "1989a6ff-c9e1-403e-a8d2-77327827a8e5",
   "metadata": {},
   "source": [
    "$P_0 \\approx \\frac{2^0}{0!}e^{-2} \\approx 0.135 \\; (13.5\\%)$"
   ]
  },
  {
   "cell_type": "code",
   "execution_count": 30,
   "id": "535ba6b4-8740-4cdd-bcdc-2f8c3b1c16db",
   "metadata": {
    "tags": []
   },
   "outputs": [
    {
     "data": {
      "text/plain": [
       "0.1353352832366127"
      ]
     },
     "execution_count": 30,
     "metadata": {},
     "output_type": "execute_result"
    }
   ],
   "source": [
    "P = np.e ** -2\n",
    "P"
   ]
  },
  {
   "cell_type": "markdown",
   "id": "fc7bd82e-7014-421e-8ca6-8e4a161f80ba",
   "metadata": {},
   "source": [
    "Вероятность, что перегорят ровно две:"
   ]
  },
  {
   "cell_type": "markdown",
   "id": "7faec447-4ec5-48b1-9653-76ae9693ad42",
   "metadata": {
    "tags": []
   },
   "source": [
    "$P_2 \\approx \\frac{2^2}{2!}e^{-2} \\approx 0.27 \\; (27\\%)$"
   ]
  },
  {
   "cell_type": "code",
   "execution_count": 31,
   "id": "2749b94c-bf2c-48c2-9318-97ec28d2fa88",
   "metadata": {
    "tags": []
   },
   "outputs": [
    {
     "data": {
      "text/plain": [
       "0.2706705664732254"
      ]
     },
     "execution_count": 35,
     "metadata": {},
     "output_type": "execute_result"
    }
   ],
   "source": [
    "P = 2 * np.e ** -2\n",
    "P"
   ]
  },
  {
   "cell_type": "markdown",
   "id": "c1e7b95e-74f4-44a3-b0f2-0c7d26093b99",
   "metadata": {},
   "source": [
    "### Задание 3."
   ]
  },
  {
   "cell_type": "markdown",
   "id": "4d2f5618-4e16-4079-a38b-8f32ffb06b81",
   "metadata": {},
   "source": [
    "Монету подбросили 144 раза. Какова вероятность, что орел выпадет ровно 70 раз?"
   ]
  },
  {
   "cell_type": "markdown",
   "id": "4afb1225-c1f0-44db-a255-988f4f5c7dd7",
   "metadata": {},
   "source": [
    "#### Решение:"
   ]
  },
  {
   "cell_type": "markdown",
   "id": "279f9924-78dd-4e41-8a23-f49224ced2d5",
   "metadata": {},
   "source": [
    "Используем формулу Бернулли для биномиального распределения:\n",
    "$$P_n(X=k)=C_{n}^{k}p^kq^{n-k}$$"
   ]
  },
  {
   "cell_type": "markdown",
   "id": "0eb79ec6-1b08-4a93-8b82-6f57efa522e8",
   "metadata": {},
   "source": [
    "$P_{144}(k=70)=C_{144}^{70} \\cdot 0.5^{70} \\cdot 0.5^{144-70} = \\frac{144!}{70! \\cdot (144-70)!} \\cdot 0.5^{70} \\cdot 0.5^{74}  \\approx 0.062 \\; (6.2\\%)$"
   ]
  },
  {
   "cell_type": "code",
   "execution_count": 39,
   "id": "70b7c755-2720-40b8-b226-15185307d666",
   "metadata": {},
   "outputs": [
    {
     "data": {
      "text/plain": [
       "0.06281178035144776"
      ]
     },
     "execution_count": 39,
     "metadata": {},
     "output_type": "execute_result"
    }
   ],
   "source": [
    "P = (fcl(144) / (fcl(70) * fcl(74))) * (0.5**70) * (0.5**74)\n",
    "P"
   ]
  },
  {
   "cell_type": "markdown",
   "id": "4c2c4a9e-29d4-4991-aa22-036b59c204cd",
   "metadata": {},
   "source": [
    "### Задание 4."
   ]
  },
  {
   "cell_type": "markdown",
   "id": "24e256b3-c1a4-40d5-946f-0aa59eac8159",
   "metadata": {},
   "source": [
    "В первом ящике находится 10 мячей, из которых 7 - белые. Во втором ящике - 11 мячей, из которых 9 белых. Из каждого ящика вытаскивают случайным образом по два мяча. Какова вероятность того, что все мячи белые? Какова вероятность того, что ровно два мяча белые? Какова вероятность того, что хотя бы один мяч белый?"
   ]
  },
  {
   "cell_type": "markdown",
   "id": "a4bf6d54-cc00-4fc1-9d8b-37442f89416a",
   "metadata": {},
   "source": [
    "#### Решение:"
   ]
  },
  {
   "cell_type": "markdown",
   "id": "7cc67e0a-81d5-446b-9277-737a678479c1",
   "metadata": {},
   "source": [
    "Используем формулу расчёта кол-ва комбинаций:\n",
    "$$C_{n}^{k} = \\frac{n!}{k!(n-k)!}$$"
   ]
  },
  {
   "cell_type": "markdown",
   "id": "8717931b-219a-420e-a6e0-9d763400a12d",
   "metadata": {},
   "source": [
    "#### Какова вероятность того, что все мячи белые?"
   ]
  },
  {
   "cell_type": "markdown",
   "id": "c6de2d25-7b9e-4e47-ac78-836f46839b2d",
   "metadata": {},
   "source": [
    "Количество комбинаций 2х белых мячей из первого ящика:\n",
    "\n",
    "$C_{7}^2 = \\frac{7!}{2! \\cdot 5!} = 21$"
   ]
  },
  {
   "cell_type": "code",
   "execution_count": 58,
   "id": "ffbca92b-eb68-4b4c-816f-11bfce2c1748",
   "metadata": {
    "tags": []
   },
   "outputs": [
    {
     "data": {
      "text/plain": [
       "21.0"
      ]
     },
     "execution_count": 58,
     "metadata": {},
     "output_type": "execute_result"
    }
   ],
   "source": [
    "C = fcl(7) / (fcl(2) * fcl(5))\n",
    "C"
   ]
  },
  {
   "cell_type": "markdown",
   "id": "85f9cea0-389d-4bb3-984f-5a74dee4cb0b",
   "metadata": {},
   "source": [
    "Общее количество комбинаций 2х мячей из первого ящика:\n",
    "    \n",
    "$C_{10}^2 = \\frac{10!}{2! \\cdot 8!} = 45$"
   ]
  },
  {
   "cell_type": "code",
   "execution_count": 60,
   "id": "accdbbb1-afe5-408a-a0e2-28284543a043",
   "metadata": {
    "tags": []
   },
   "outputs": [
    {
     "data": {
      "text/plain": [
       "45.0"
      ]
     },
     "execution_count": 60,
     "metadata": {},
     "output_type": "execute_result"
    }
   ],
   "source": [
    "C = fcl(10) / (fcl(2) * fcl(8))\n",
    "C"
   ]
  },
  {
   "cell_type": "markdown",
   "id": "f76b0975-754b-4cfa-8f7d-dfee1268c664",
   "metadata": {
    "tags": []
   },
   "source": [
    "Вероятность достать два белых мяча из первого ящика:\n",
    "\n",
    "$P=\\frac{21}{45}=0.46(6)$"
   ]
  },
  {
   "cell_type": "code",
   "execution_count": 61,
   "id": "86d1b6f5-819c-4eef-9b92-5f2882ae3cdd",
   "metadata": {},
   "outputs": [
    {
     "data": {
      "text/plain": [
       "0.4666666666666667"
      ]
     },
     "execution_count": 61,
     "metadata": {},
     "output_type": "execute_result"
    }
   ],
   "source": [
    "21/45"
   ]
  },
  {
   "cell_type": "markdown",
   "id": "a7a2623b-1f96-4dd0-aecc-c8804984c3c5",
   "metadata": {},
   "source": [
    "Количество комбинаций 2х белых мячей из второго ящика:\n",
    "\n",
    "$C_{9}^2 = \\frac{9!}{2! \\cdot 7!} = 36$"
   ]
  },
  {
   "cell_type": "code",
   "execution_count": 62,
   "id": "fab37e1c-992b-461d-9fb1-04a9640fba4c",
   "metadata": {
    "tags": []
   },
   "outputs": [
    {
     "data": {
      "text/plain": [
       "36.0"
      ]
     },
     "execution_count": 62,
     "metadata": {},
     "output_type": "execute_result"
    }
   ],
   "source": [
    "C = fcl(9) / (fcl(2) * fcl(7))\n",
    "C"
   ]
  },
  {
   "cell_type": "markdown",
   "id": "86c038f2-3309-4edd-ab8e-86bef26b493b",
   "metadata": {},
   "source": [
    "Общее количество комбинаций 2х мячей из второго ящика:\n",
    "    \n",
    "$C_{11}^2 = \\frac{11!}{2! \\cdot 9!} = 55$"
   ]
  },
  {
   "cell_type": "code",
   "execution_count": 73,
   "id": "9ebc966b-4754-4b4c-95a9-04a69d292902",
   "metadata": {
    "tags": []
   },
   "outputs": [
    {
     "data": {
      "text/plain": [
       "55.0"
      ]
     },
     "execution_count": 73,
     "metadata": {},
     "output_type": "execute_result"
    }
   ],
   "source": [
    "C = fcl(11) / (fcl(2) * fcl(9))\n",
    "C"
   ]
  },
  {
   "cell_type": "markdown",
   "id": "259ee268-239d-4476-a6af-796cd7a405d2",
   "metadata": {
    "tags": []
   },
   "source": [
    "Вероятность достать два белых мяча из второго ящика:\n",
    "\n",
    "$P=\\frac{36}{55}=0.65(45)$"
   ]
  },
  {
   "cell_type": "code",
   "execution_count": 65,
   "id": "157c22a6-f21f-4555-9df8-4c0f889ee2e4",
   "metadata": {},
   "outputs": [
    {
     "data": {
      "text/plain": [
       "0.6545454545454545"
      ]
     },
     "execution_count": 65,
     "metadata": {},
     "output_type": "execute_result"
    }
   ],
   "source": [
    "36/55"
   ]
  },
  {
   "cell_type": "markdown",
   "id": "b21b8fd2-2f76-45c6-a147-e082a02537dd",
   "metadata": {},
   "source": [
    "#### Вероятность, что все мячи белые (A):\n",
    "\n",
    "$P(A) = 0.46 \\cdot 0.65 \\approx 0.3 \\; (30\\%)$"
   ]
  },
  {
   "cell_type": "code",
   "execution_count": 74,
   "id": "d7044f77-8615-429e-a278-9aa62c11ba53",
   "metadata": {},
   "outputs": [
    {
     "data": {
      "text/plain": [
       "0.29900000000000004"
      ]
     },
     "execution_count": 74,
     "metadata": {},
     "output_type": "execute_result"
    }
   ],
   "source": [
    "0.46*0.65"
   ]
  },
  {
   "cell_type": "markdown",
   "id": "a49f32b7-45be-4073-bd90-c44e83399e55",
   "metadata": {},
   "source": [
    "#### Какова вероятность того, что ровно два мяча белые?"
   ]
  },
  {
   "cell_type": "code",
   "execution_count": 4,
   "id": "74694a8a-2ee2-4abd-bacc-fd650b8483b7",
   "metadata": {},
   "outputs": [],
   "source": [
    "def comb(n, k):\n",
    "    C = fcl(n)/(fcl(k)*fcl(n-k))\n",
    "    return int(C)"
   ]
  },
  {
   "cell_type": "markdown",
   "id": "902a1f3a-cf22-4b6f-ae91-2e75e40984fb",
   "metadata": {},
   "source": [
    "Вероятность вытащить по одному мячу из каждого ящика"
   ]
  },
  {
   "cell_type": "code",
   "execution_count": 13,
   "id": "9cf5c433-27db-4449-8ee2-6d9cea3148e7",
   "metadata": {},
   "outputs": [
    {
     "data": {
      "text/plain": [
       "0.15272727272727274"
      ]
     },
     "execution_count": 13,
     "metadata": {},
     "output_type": "execute_result"
    }
   ],
   "source": [
    "P_1 = (comb(7, 1) * comb(3, 1) / comb(10, 2)) * (comb(9, 1) * comb(2, 1) / comb(11, 2))\n",
    "P_1"
   ]
  },
  {
   "cell_type": "markdown",
   "id": "d89109b5-5b7a-46e7-a8ec-d14e8072ba3f",
   "metadata": {},
   "source": [
    "Вероятность вытащить из первого ящика два белых мяча:"
   ]
  },
  {
   "cell_type": "code",
   "execution_count": 14,
   "id": "c8eabd05-556c-4322-b2f3-59ac3c5c499e",
   "metadata": {},
   "outputs": [
    {
     "data": {
      "text/plain": [
       "0.008484848484848484"
      ]
     },
     "execution_count": 14,
     "metadata": {},
     "output_type": "execute_result"
    }
   ],
   "source": [
    "P_2 = (comb(7, 2) / comb(10, 2)) * (comb(2, 2) / comb(11, 2))\n",
    "P_2"
   ]
  },
  {
   "cell_type": "markdown",
   "id": "483bed97-4162-4de5-9ee8-c973983a2c5e",
   "metadata": {},
   "source": [
    "Вероятность вытащить из второго ящика два белых мяча:"
   ]
  },
  {
   "cell_type": "code",
   "execution_count": 15,
   "id": "820336f9-d77b-48a4-aa23-56456d2a3da0",
   "metadata": {},
   "outputs": [
    {
     "data": {
      "text/plain": [
       "0.04363636363636363"
      ]
     },
     "execution_count": 15,
     "metadata": {},
     "output_type": "execute_result"
    }
   ],
   "source": [
    "P_3 = (comb(3, 2) / comb(10, 2)) * (comb(9, 2) / comb(11, 2))\n",
    "P_3"
   ]
  },
  {
   "cell_type": "markdown",
   "id": "2431df75-b633-4c90-adeb-a9461d894fe2",
   "metadata": {},
   "source": [
    "#### Вероятность (А), что оба мяча белые это или два мяча из первого ящика или два из второго, или по одному с каждого:\n",
    "\n",
    "$P(A)=P_1+P_2+P_3 \\approx 0.204 \\; (20.4\\%)$\n"
   ]
  },
  {
   "cell_type": "code",
   "execution_count": 17,
   "id": "f57f416e-2823-4d06-86ca-72e372225cc0",
   "metadata": {},
   "outputs": [
    {
     "data": {
      "text/plain": [
       "0.20484848484848486"
      ]
     },
     "execution_count": 17,
     "metadata": {},
     "output_type": "execute_result"
    }
   ],
   "source": [
    "P_1 + P_2 + P_3\n"
   ]
  },
  {
   "cell_type": "markdown",
   "id": "f640eb01-3be3-43ab-9d16-328c60a99b10",
   "metadata": {},
   "source": [
    "#### Какова вероятность того, что хотя бы один мяч белый?"
   ]
  },
  {
   "cell_type": "markdown",
   "id": "6832ee4c-df44-405d-95ce-d8e5f12e5902",
   "metadata": {},
   "source": [
    "Вероятность, что белых мячей нет:"
   ]
  },
  {
   "cell_type": "code",
   "execution_count": 18,
   "id": "212d1a7e-90eb-4b6d-b413-2f1bac9d6798",
   "metadata": {},
   "outputs": [
    {
     "data": {
      "text/plain": [
       "0.0012121212121212121"
      ]
     },
     "execution_count": 18,
     "metadata": {},
     "output_type": "execute_result"
    }
   ],
   "source": [
    "P_0 = (comb(3, 2) / comb(10, 2)) * (comb(2, 2) / comb(11, 2))\n",
    "P_0                                    "
   ]
  },
  {
   "cell_type": "markdown",
   "id": "0e33e5d9-2c02-4036-af35-7d24e44ded4d",
   "metadata": {},
   "source": [
    "#### Вероятность, что хотя бы один мяч белый:"
   ]
  },
  {
   "cell_type": "markdown",
   "id": "8e2e60ee-4d2e-48b3-9c00-0e2b0302e00a",
   "metadata": {},
   "source": [
    "$1 - P_0 \\approx 0.998 \\; (99.8\\%)$"
   ]
  },
  {
   "cell_type": "code",
   "execution_count": 19,
   "id": "273ad3c3-e5f0-41bc-a701-439b45156673",
   "metadata": {},
   "outputs": [
    {
     "data": {
      "text/plain": [
       "0.9987878787878788"
      ]
     },
     "execution_count": 19,
     "metadata": {},
     "output_type": "execute_result"
    }
   ],
   "source": [
    "1 - P_0"
   ]
  }
 ],
 "metadata": {
  "kernelspec": {
   "display_name": "Python 3 (ipykernel)",
   "language": "python",
   "name": "python3"
  },
  "language_info": {
   "codemirror_mode": {
    "name": "ipython",
    "version": 3
   },
   "file_extension": ".py",
   "mimetype": "text/x-python",
   "name": "python",
   "nbconvert_exporter": "python",
   "pygments_lexer": "ipython3",
   "version": "3.8.13"
  }
 },
 "nbformat": 4,
 "nbformat_minor": 5
}
