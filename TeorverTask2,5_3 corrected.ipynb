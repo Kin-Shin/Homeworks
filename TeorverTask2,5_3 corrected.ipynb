{
 "cells": [
  {
   "cell_type": "code",
   "execution_count": 1,
   "id": "0ae9b7fb-1549-47b7-a8f8-decdacaa5bfa",
   "metadata": {},
   "outputs": [],
   "source": [
    "from math import factorial as fcl\n",
    "import numpy as np"
   ]
  },
  {
   "cell_type": "markdown",
   "id": "5e1b08cd-b3df-4094-b823-0ef6767598db",
   "metadata": {},
   "source": [
    "Формула расчёта кол-ва комбинаций:\n",
    "$$C_{n}^{k} = \\frac{n!}{k!(n-k)!}$$"
   ]
  },
  {
   "cell_type": "code",
   "execution_count": 2,
   "id": "c574ee2b-e330-4cd5-8a00-c0f318956eb5",
   "metadata": {},
   "outputs": [],
   "source": [
    "def comb(n, k):\n",
    "    C = fcl(n)/(fcl(k)*fcl(n-k))\n",
    "    return int(C)"
   ]
  },
  {
   "cell_type": "markdown",
   "id": "d718ba97-4ef5-4851-95bf-fea372c87a12",
   "metadata": {},
   "source": [
    "### Задание 2."
   ]
  },
  {
   "cell_type": "markdown",
   "id": "74c160f6-2e84-4416-b69c-5e4949a55e4e",
   "metadata": {},
   "source": [
    " В первом ящике находится 8 мячей, из которых 5 - белые. Во втором ящике - 12 мячей, из которых 5 белых. Из первого ящика вытаскивают случайным образом два мяча, из второго - 4. Какова вероятность того, что 3 мяча белые?"
   ]
  },
  {
   "cell_type": "markdown",
   "id": "f3fad75a-5af5-4e78-a3e7-066d82534dee",
   "metadata": {},
   "source": [
    "#### Решение:"
   ]
  },
  {
   "cell_type": "markdown",
   "id": "497f0d08-dfc8-4dd2-995f-88047ad05372",
   "metadata": {},
   "source": [
    "# Для выполнения условия задачи:\n",
    "из первого ящика можно вытащить ИЛИ 2, ИЛИ 1, ИЛИ 0 белых И\n",
    "из второгоя ящика можно вытащить ИЛИ 1, ИЛИ 2, ИЛИ 0 белых"
   ]
  },
  {
   "cell_type": "markdown",
   "id": "66dd7703-aa68-4b72-becc-efbdc63312b4",
   "metadata": {},
   "source": [
    "Вероятность вытащить из первого ящика 2 белых и 0 чёрных:"
   ]
  },
  {
   "cell_type": "code",
   "execution_count": 64,
   "id": "3ab7467a-b8b1-4191-a44f-8f303e793130",
   "metadata": {},
   "outputs": [
    {
     "data": {
      "text/plain": [
       "0.35714285714285715"
      ]
     },
     "execution_count": 64,
     "metadata": {},
     "output_type": "execute_result"
    }
   ],
   "source": [
    "f1 = (comb(5, 2) * comb(3, 0))/comb(8, 2)\n",
    "f1"
   ]
  },
  {
   "cell_type": "markdown",
   "id": "ade17670-befc-4590-8df5-a8b0ce77074f",
   "metadata": {},
   "source": [
    "Вероятность вытащить из первого ящика 1 белых и 1 чёрный:"
   ]
  },
  {
   "cell_type": "code",
   "execution_count": 65,
   "id": "0b204502-a65f-4bf9-bc33-b76fade807de",
   "metadata": {},
   "outputs": [
    {
     "data": {
      "text/plain": [
       "0.5357142857142857"
      ]
     },
     "execution_count": 65,
     "metadata": {},
     "output_type": "execute_result"
    }
   ],
   "source": [
    "f2 = (comb(5, 1) * comb(3, 1))/comb(8, 2)\n",
    "f2"
   ]
  },
  {
   "cell_type": "markdown",
   "id": "67ccdaad-fe64-4407-a9f9-ae56df99d988",
   "metadata": {},
   "source": [
    "Вероятность вытащить из первого ящика 0 белых и 2 чёрных:"
   ]
  },
  {
   "cell_type": "code",
   "execution_count": 66,
   "id": "f9083d4e-b58f-4b44-b8ab-56ca5f0543b2",
   "metadata": {},
   "outputs": [
    {
     "data": {
      "text/plain": [
       "0.10714285714285714"
      ]
     },
     "execution_count": 66,
     "metadata": {},
     "output_type": "execute_result"
    }
   ],
   "source": [
    "f3 = (comb(5, 0) * comb(3, 2))/comb(8, 2)\n",
    "f3"
   ]
  },
  {
   "cell_type": "markdown",
   "id": "d415a7ec-d7fb-442a-8262-e5ccb18fd90a",
   "metadata": {},
   "source": [
    "Вероятность вытащить из второго ящика 1 белый и 3 чёрных:"
   ]
  },
  {
   "cell_type": "code",
   "execution_count": 67,
   "id": "33a73459-32e3-40de-a415-2cb8d900bbb8",
   "metadata": {},
   "outputs": [
    {
     "data": {
      "text/plain": [
       "0.35353535353535354"
      ]
     },
     "execution_count": 67,
     "metadata": {},
     "output_type": "execute_result"
    }
   ],
   "source": [
    "s1 = (comb(5, 1) * comb(7, 3))/comb(12, 4)\n",
    "s1"
   ]
  },
  {
   "cell_type": "markdown",
   "id": "80dccd7a-3c2d-4d4a-8054-2166d639e7ca",
   "metadata": {},
   "source": [
    "Вероятность вытащить из второго ящика 2 белых и 2 чёрных:"
   ]
  },
  {
   "cell_type": "code",
   "execution_count": 68,
   "id": "3fd4ed78-f626-46ca-b825-c553255cfa2b",
   "metadata": {},
   "outputs": [
    {
     "data": {
      "text/plain": [
       "0.42424242424242425"
      ]
     },
     "execution_count": 68,
     "metadata": {},
     "output_type": "execute_result"
    }
   ],
   "source": [
    "s2 = (comb(5, 2) * comb(7, 2))/comb(12, 4)\n",
    "s2"
   ]
  },
  {
   "cell_type": "markdown",
   "id": "87293a35-bc0f-46d5-a8df-463dbaa9f2ae",
   "metadata": {},
   "source": [
    "Вероятность вытащить из второго ящика 3 белых и 1 чёрный:"
   ]
  },
  {
   "cell_type": "code",
   "execution_count": 69,
   "id": "1525ffec-a9ab-49d9-8383-d01f4c587c95",
   "metadata": {},
   "outputs": [
    {
     "data": {
      "text/plain": [
       "0.1414141414141414"
      ]
     },
     "execution_count": 69,
     "metadata": {},
     "output_type": "execute_result"
    }
   ],
   "source": [
    "s3 = (comb(5, 3) * comb(7, 1))/comb(12, 4)\n",
    "s3"
   ]
  },
  {
   "cell_type": "code",
   "execution_count": 70,
   "id": "007dd9f1-db86-4a5c-b1b9-fcf4dd46b865",
   "metadata": {},
   "outputs": [
    {
     "data": {
      "text/plain": [
       "0.3686868686868687"
      ]
     },
     "execution_count": 70,
     "metadata": {},
     "output_type": "execute_result"
    }
   ],
   "source": [
    "p = (f1 * s1) + (f2 * s2) + (f3 * s3) \n",
    "p"
   ]
  },
  {
   "cell_type": "markdown",
   "id": "b31a61f2-83ab-495a-8cb1-c245867d5279",
   "metadata": {},
   "source": [
    "### Задание 5."
   ]
  },
  {
   "cell_type": "markdown",
   "id": "692de7dc-0df8-469b-8929-932b76a3fc03",
   "metadata": {},
   "source": [
    "Устройство состоит из трех деталей. Для первой детали вероятность выйти из строя в первый месяц равна 0.1, для второй - 0.2, для третьей - 0.25. Какова вероятность того, что в первый месяц выйдут из строя: а). все детали б). только две детали в). хотя бы одна деталь г). от одной до двух деталей?"
   ]
  },
  {
   "cell_type": "markdown",
   "id": "a82259c6-b09f-4203-ab69-073adfd42b77",
   "metadata": {},
   "source": [
    "#### Решение:"
   ]
  },
  {
   "cell_type": "markdown",
   "id": "62a7f1e4-d553-49ee-ae5c-5ed79168f001",
   "metadata": {},
   "source": [
    "Какова вероятность того, что в первый месяц выйдут из строя все детали?"
   ]
  },
  {
   "cell_type": "markdown",
   "id": "c711807e-d926-4938-99a2-b03fe6232521",
   "metadata": {},
   "source": [
    "Выйдут из строя 1 И 2 И 3 детали, следовательно:"
   ]
  },
  {
   "cell_type": "code",
   "execution_count": 74,
   "id": "d2401fe1-a7db-44d2-b4d5-59cce81cacf6",
   "metadata": {
    "tags": []
   },
   "outputs": [
    {
     "data": {
      "text/plain": [
       "0.005000000000000001"
      ]
     },
     "execution_count": 74,
     "metadata": {},
     "output_type": "execute_result"
    }
   ],
   "source": [
    "p1 = 0.1 * 0.2 * 0.25\n",
    "p1"
   ]
  },
  {
   "cell_type": "markdown",
   "id": "2940f03a-7d1f-4196-ac05-6746df684e90",
   "metadata": {},
   "source": [
    "Какова вероятность того, что в первый месяц выйдут из строя только две детали?"
   ]
  },
  {
   "cell_type": "markdown",
   "id": "a11ec92d-a7b5-4348-b90b-e0b5d5629296",
   "metadata": {},
   "source": [
    "Выйдут из строя детали 1 И 2 И 3я работает ИЛИ 1 И 3 И 2я работает ИЛИ 2 И 3 И 1я работает, следовательно:"
   ]
  },
  {
   "cell_type": "code",
   "execution_count": 76,
   "id": "60732dd0-3e41-40fb-8f5b-09ec073c1293",
   "metadata": {},
   "outputs": [
    {
     "data": {
      "text/plain": [
       "0.08000000000000002"
      ]
     },
     "execution_count": 76,
     "metadata": {},
     "output_type": "execute_result"
    }
   ],
   "source": [
    "p2 = 0.1 * 0.2 * 0.75 + 0.1 * 0.25 * 0.8 + 0.2 * 0.25 * 0.9\n",
    "p2"
   ]
  },
  {
   "cell_type": "markdown",
   "id": "df2c6b91-18d6-4d86-9329-09531a560b53",
   "metadata": {},
   "source": [
    "Какова вероятность того, что в первый месяц выйдет из строя хотя бы одна деталь?"
   ]
  },
  {
   "cell_type": "markdown",
   "id": "901ca410-5808-4757-a063-8b4ced80b7d8",
   "metadata": {},
   "source": [
    "Из 100% вычитаем вероятность, что все детали работают"
   ]
  },
  {
   "cell_type": "code",
   "execution_count": 77,
   "id": "e6294c95-8cce-4582-a05e-c8866307db12",
   "metadata": {},
   "outputs": [
    {
     "data": {
      "text/plain": [
       "0.45999999999999996"
      ]
     },
     "execution_count": 77,
     "metadata": {},
     "output_type": "execute_result"
    }
   ],
   "source": [
    "p3 = 1 - 0.9 * 0.8 * 0.75\n",
    "p3"
   ]
  },
  {
   "cell_type": "markdown",
   "id": "34f900b7-35b3-488e-bec8-6bba7d5c1969",
   "metadata": {},
   "source": [
    "Какова вероятность того, что в первый месяц выйдет из строя от одной до двух деталей?"
   ]
  },
  {
   "cell_type": "markdown",
   "id": "a5c888b9-2d7a-49ba-b43c-94c2b99022e4",
   "metadata": {},
   "source": [
    "Из 100% вычитаем вероятности, что все детали работают и что все три сломаны"
   ]
  },
  {
   "cell_type": "code",
   "execution_count": 81,
   "id": "27e61add-43ab-491d-976f-54cf015be03b",
   "metadata": {},
   "outputs": [
    {
     "data": {
      "text/plain": [
       "0.45499999999999996"
      ]
     },
     "execution_count": 81,
     "metadata": {},
     "output_type": "execute_result"
    }
   ],
   "source": [
    "p4 = p3 - p1 \n",
    "p4"
   ]
  }
 ],
 "metadata": {
  "kernelspec": {
   "display_name": "Python 3 (ipykernel)",
   "language": "python",
   "name": "python3"
  },
  "language_info": {
   "codemirror_mode": {
    "name": "ipython",
    "version": 3
   },
   "file_extension": ".py",
   "mimetype": "text/x-python",
   "name": "python",
   "nbconvert_exporter": "python",
   "pygments_lexer": "ipython3",
   "version": "3.8.13"
  }
 },
 "nbformat": 4,
 "nbformat_minor": 5
}
