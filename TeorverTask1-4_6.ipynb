{
 "cells": [
  {
   "cell_type": "code",
   "execution_count": 84,
   "id": "0ae9b7fb-1549-47b7-a8f8-decdacaa5bfa",
   "metadata": {},
   "outputs": [],
   "source": [
    "import numpy as np\n",
    "import pandas as pd\n",
    "from scipy import stats"
   ]
  },
  {
   "cell_type": "markdown",
   "id": "6ddca030-233c-4165-8afa-bd60013002e8",
   "metadata": {},
   "source": [
    "### Задание 1."
   ]
  },
  {
   "cell_type": "markdown",
   "id": "040b6935-c7f7-4ddf-a569-028b55d67623",
   "metadata": {},
   "source": [
    "Даны значения величины заработной платы заемщиков банка (zp) и значения их поведенческого кредитного скоринга (ks):\n",
    "zp = [35, 45, 190, 200, 40, 70, 54, 150, 120, 110],\n",
    "ks = [401, 574, 874, 919, 459, 739, 653, 902, 746, 832].\n",
    "Найдите ковариацию этих двух величин с помощью элементарных действий, а затем с помощью функции cov из numpy\n",
    "Полученные значения должны быть равны.\n",
    "Найдите коэффициент корреляции Пирсона с помощью ковариации и среднеквадратичных отклонений двух признаков,\n",
    "а затем с использованием функций из библиотек numpy и pandas."
   ]
  },
  {
   "cell_type": "markdown",
   "id": "ce69bac6-06bc-4034-8a67-3ddb4a73c927",
   "metadata": {},
   "source": [
    "#### Решение:"
   ]
  },
  {
   "cell_type": "markdown",
   "id": "6cf3e5f4-8dfa-4bdf-ab73-8054e03db39d",
   "metadata": {},
   "source": [
    "$$cov_{xy} = M(XY) - M(X) \\cdot M(Y)$$"
   ]
  },
  {
   "cell_type": "markdown",
   "id": "43e806c4-6d3f-4ee7-8364-930b8275ef94",
   "metadata": {},
   "source": [
    "$$r_{XY} = \\frac{cov_{XY}}{\\sigma_{X}\\sigma_{Y}}$$"
   ]
  },
  {
   "cell_type": "code",
   "execution_count": 2,
   "id": "f451f798-f649-401c-8358-2fc271e28d0d",
   "metadata": {},
   "outputs": [],
   "source": [
    "zp = np.array([35, 45, 190, 200, 40, 70, 54, 150, 120, 110])\n",
    "ks = np.array([401, 574, 874, 919, 459, 739, 653, 902, 746, 832])"
   ]
  },
  {
   "cell_type": "code",
   "execution_count": 15,
   "id": "b12cfae9-bcc2-42bb-a270-02728d78947a",
   "metadata": {},
   "outputs": [
    {
     "data": {
      "text/plain": [
       "9157.839999999997"
      ]
     },
     "execution_count": 15,
     "metadata": {},
     "output_type": "execute_result"
    }
   ],
   "source": [
    "cov = np.mean(zp * ks) - np.mean(zp) * np.mean(ks)\n",
    "cov"
   ]
  },
  {
   "cell_type": "code",
   "execution_count": 18,
   "id": "2515d786-f680-4a22-b902-1025e554b51c",
   "metadata": {},
   "outputs": [
    {
     "data": {
      "text/plain": [
       "array([[ 3494.64,  9157.84],\n",
       "       [ 9157.84, 30468.89]])"
      ]
     },
     "execution_count": 18,
     "metadata": {},
     "output_type": "execute_result"
    }
   ],
   "source": [
    "np.cov(zp,ks,ddof=0)"
   ]
  },
  {
   "cell_type": "code",
   "execution_count": 12,
   "id": "1b721fa2-7b5c-4851-a522-0a6ca772b5b6",
   "metadata": {},
   "outputs": [
    {
     "data": {
      "text/plain": [
       "0.8874900920739158"
      ]
     },
     "execution_count": 12,
     "metadata": {},
     "output_type": "execute_result"
    }
   ],
   "source": [
    "r = cov/(np.std(zp) * np.std(ks))\n",
    "r"
   ]
  },
  {
   "cell_type": "code",
   "execution_count": null,
   "id": "873a67e1-3ca7-4087-a57c-ca7e63644b73",
   "metadata": {},
   "outputs": [
    {
     "data": {
      "text/plain": [
       "array([[1.        , 0.88749009],\n",
       "       [0.88749009, 1.        ]])"
      ]
     },
     "execution_count": 19,
     "metadata": {},
     "output_type": "execute_result"
    }
   ],
   "source": [
    "np.corrcoef(zp, ks)"
   ]
  },
  {
   "cell_type": "code",
   "execution_count": 36,
   "id": "34fa6129-c4d1-4c0d-95ca-de1062cb0e63",
   "metadata": {},
   "outputs": [
    {
     "data": {
      "text/html": [
       "<div>\n",
       "<style scoped>\n",
       "    .dataframe tbody tr th:only-of-type {\n",
       "        vertical-align: middle;\n",
       "    }\n",
       "\n",
       "    .dataframe tbody tr th {\n",
       "        vertical-align: top;\n",
       "    }\n",
       "\n",
       "    .dataframe thead th {\n",
       "        text-align: right;\n",
       "    }\n",
       "</style>\n",
       "<table border=\"1\" class=\"dataframe\">\n",
       "  <thead>\n",
       "    <tr style=\"text-align: right;\">\n",
       "      <th></th>\n",
       "      <th>zp</th>\n",
       "      <th>ks</th>\n",
       "    </tr>\n",
       "  </thead>\n",
       "  <tbody>\n",
       "    <tr>\n",
       "      <th>0</th>\n",
       "      <td>35</td>\n",
       "      <td>401</td>\n",
       "    </tr>\n",
       "    <tr>\n",
       "      <th>1</th>\n",
       "      <td>45</td>\n",
       "      <td>574</td>\n",
       "    </tr>\n",
       "    <tr>\n",
       "      <th>2</th>\n",
       "      <td>190</td>\n",
       "      <td>874</td>\n",
       "    </tr>\n",
       "    <tr>\n",
       "      <th>3</th>\n",
       "      <td>200</td>\n",
       "      <td>919</td>\n",
       "    </tr>\n",
       "    <tr>\n",
       "      <th>4</th>\n",
       "      <td>40</td>\n",
       "      <td>459</td>\n",
       "    </tr>\n",
       "    <tr>\n",
       "      <th>5</th>\n",
       "      <td>70</td>\n",
       "      <td>739</td>\n",
       "    </tr>\n",
       "    <tr>\n",
       "      <th>6</th>\n",
       "      <td>54</td>\n",
       "      <td>653</td>\n",
       "    </tr>\n",
       "    <tr>\n",
       "      <th>7</th>\n",
       "      <td>150</td>\n",
       "      <td>902</td>\n",
       "    </tr>\n",
       "    <tr>\n",
       "      <th>8</th>\n",
       "      <td>120</td>\n",
       "      <td>746</td>\n",
       "    </tr>\n",
       "    <tr>\n",
       "      <th>9</th>\n",
       "      <td>110</td>\n",
       "      <td>832</td>\n",
       "    </tr>\n",
       "  </tbody>\n",
       "</table>\n",
       "</div>"
      ],
      "text/plain": [
       "    zp   ks\n",
       "0   35  401\n",
       "1   45  574\n",
       "2  190  874\n",
       "3  200  919\n",
       "4   40  459\n",
       "5   70  739\n",
       "6   54  653\n",
       "7  150  902\n",
       "8  120  746\n",
       "9  110  832"
      ]
     },
     "execution_count": 36,
     "metadata": {},
     "output_type": "execute_result"
    }
   ],
   "source": [
    "df = pd.DataFrame({'zp': zp, 'ks': ks})\n",
    "df"
   ]
  },
  {
   "cell_type": "code",
   "execution_count": 39,
   "id": "614c67b3-9b1b-475c-9bf8-d2663d67b6f1",
   "metadata": {},
   "outputs": [
    {
     "data": {
      "text/plain": [
       "0.8874900920739168"
      ]
     },
     "execution_count": 39,
     "metadata": {},
     "output_type": "execute_result"
    }
   ],
   "source": [
    "corr_matrix = df.corr()\n",
    "corr_matrix.loc['zp', 'ks']"
   ]
  },
  {
   "cell_type": "markdown",
   "id": "d718ba97-4ef5-4851-95bf-fea372c87a12",
   "metadata": {},
   "source": [
    "### Задание 2."
   ]
  },
  {
   "cell_type": "markdown",
   "id": "3c89bb10-079f-496f-8f87-2ae89dc48145",
   "metadata": {},
   "source": [
    "Измерены значения IQ выборки студентов,\n",
    "обучающихся в местных технических вузах:\n",
    "131, 125, 115, 122, 131, 115, 107, 99, 125, 111.\n",
    "Известно, что в генеральной совокупности IQ распределен нормально.\n",
    "Найдите доверительный интервал для математического ожидания с надежностью 0.95."
   ]
  },
  {
   "cell_type": "markdown",
   "id": "f3fad75a-5af5-4e78-a3e7-066d82534dee",
   "metadata": {},
   "source": [
    "#### Решение:"
   ]
  },
  {
   "cell_type": "markdown",
   "id": "3f73afe8-757d-481c-926b-4b6ed9bd3231",
   "metadata": {},
   "source": [
    "Стандартное отклонение генеральной совокупности неизвестно, поэтому используем критерий Стьюдента.\n",
    "$$T_{1,2}=\\overline{X}\\pm t_{\\frac{\\alpha}{2}} \\frac{\\sigma_н}{\\sqrt{n}}$$"
   ]
  },
  {
   "cell_type": "code",
   "execution_count": 67,
   "id": "a8271c57-5110-4083-a801-b2e33290a1a5",
   "metadata": {},
   "outputs": [],
   "source": [
    "iq = np.array([131, 125, 115, 122, 131, 115, 107, 99, 125, 111])\n",
    "X = np.mean(iq)"
   ]
  },
  {
   "cell_type": "code",
   "execution_count": 68,
   "id": "1483c51f-6d0c-4721-87e0-e2ee55c47e22",
   "metadata": {},
   "outputs": [],
   "source": [
    "sigma_n = np.std(iq, ddof = 1)"
   ]
  },
  {
   "cell_type": "code",
   "execution_count": 74,
   "id": "a1fd446b-f4c0-47a7-8247-e53315632b04",
   "metadata": {},
   "outputs": [],
   "source": [
    "dfm = len(iq)-1\n",
    "alpha = 1-0.95"
   ]
  },
  {
   "cell_type": "code",
   "execution_count": 73,
   "id": "0a5d734d-554b-486d-bc59-f397c312c8ff",
   "metadata": {},
   "outputs": [
    {
     "data": {
      "text/plain": [
       "2.2621571627409915"
      ]
     },
     "execution_count": 73,
     "metadata": {},
     "output_type": "execute_result"
    }
   ],
   "source": [
    "t = stats.t.ppf(1.0 - alpha/2, dfm)\n",
    "t"
   ]
  },
  {
   "cell_type": "code",
   "execution_count": 70,
   "id": "9b18dc64-651e-4619-93ae-b0bbe244f996",
   "metadata": {},
   "outputs": [
    {
     "data": {
      "text/plain": [
       "110.1480139537451"
      ]
     },
     "execution_count": 70,
     "metadata": {},
     "output_type": "execute_result"
    }
   ],
   "source": [
    "T1 = X - t*(sigma_n/np.sqrt(dfm))\n",
    "T1"
   ]
  },
  {
   "cell_type": "code",
   "execution_count": 71,
   "id": "d071b583-ebab-4d3a-920c-9eb61beca9ae",
   "metadata": {},
   "outputs": [
    {
     "data": {
      "text/plain": [
       "126.05198604625488"
      ]
     },
     "execution_count": 71,
     "metadata": {},
     "output_type": "execute_result"
    }
   ],
   "source": [
    "T2 = X + t*(sigma_n/np.sqrt(dfm))\n",
    "T2"
   ]
  },
  {
   "cell_type": "markdown",
   "id": "b523f717-a41b-47a7-8e2b-24736ac2a9b2",
   "metadata": {},
   "source": [
    "#### Ответ"
   ]
  },
  {
   "cell_type": "markdown",
   "id": "474f0b78-a873-47f2-a29f-c2fb37ae0c60",
   "metadata": {},
   "source": [
    "$T_{1,2} = [110; 126]$"
   ]
  },
  {
   "cell_type": "markdown",
   "id": "c1e7b95e-74f4-44a3-b0f2-0c7d26093b99",
   "metadata": {
    "tags": []
   },
   "source": [
    "### Задание 3."
   ]
  },
  {
   "cell_type": "markdown",
   "id": "a24c4b56-cf0e-4b67-b5e6-f9020624e58f",
   "metadata": {},
   "source": [
    "Известно, что рост футболистов в сборной распределен нормально\n",
    "с дисперсией генеральной совокупности, равной 25 кв.см. Объем выборки равен 27,\n",
    "среднее выборочное составляет 174.2. Найдите доверительный интервал для математического\n",
    "ожидания с надежностью 0.95."
   ]
  },
  {
   "cell_type": "markdown",
   "id": "4afb1225-c1f0-44db-a255-988f4f5c7dd7",
   "metadata": {},
   "source": [
    "#### Решение:"
   ]
  },
  {
   "cell_type": "markdown",
   "id": "731c5489-977c-4730-8e1f-92df3249ec45",
   "metadata": {},
   "source": [
    "Стандартное отклонение генеральной совокупности известно, поэтому используем Z-критерий.\n",
    "$$T_{1,2}=\\overline{X}\\pm Z_{\\frac{\\alpha}{2}} \\frac{\\sigma}{\\sqrt{n}}$$"
   ]
  },
  {
   "cell_type": "code",
   "execution_count": 77,
   "id": "b60b9bb6-c60f-4d01-ba1d-d83c2ee71f36",
   "metadata": {},
   "outputs": [],
   "source": [
    "sigma = np.sqrt(25)\n",
    "n = 27\n",
    "X = 174.2\n",
    "alpha = 1-0.95"
   ]
  },
  {
   "cell_type": "code",
   "execution_count": 87,
   "id": "871030bf-9300-4128-9627-8b07392ef1fd",
   "metadata": {},
   "outputs": [
    {
     "data": {
      "text/plain": [
       "-1.959963984540054"
      ]
     },
     "execution_count": 87,
     "metadata": {},
     "output_type": "execute_result"
    }
   ],
   "source": [
    "Z = stats.norm.ppf(alpha/2)\n",
    "Z"
   ]
  },
  {
   "cell_type": "code",
   "execution_count": 91,
   "id": "0efc3506-c446-4ea6-b3e1-f1c0d46d9889",
   "metadata": {},
   "outputs": [
    {
     "data": {
      "text/plain": [
       "172.3140237765397"
      ]
     },
     "execution_count": 91,
     "metadata": {},
     "output_type": "execute_result"
    }
   ],
   "source": [
    "T1 = X + Z * (sigma/np.sqrt(27))\n",
    "T1"
   ]
  },
  {
   "cell_type": "code",
   "execution_count": 92,
   "id": "8fc37c5c-a155-4a75-aeb1-1c89afe2e27d",
   "metadata": {},
   "outputs": [
    {
     "data": {
      "text/plain": [
       "176.08597622346028"
      ]
     },
     "execution_count": 92,
     "metadata": {},
     "output_type": "execute_result"
    }
   ],
   "source": [
    "T2 = X - Z * (sigma/np.sqrt(27))\n",
    "T2"
   ]
  },
  {
   "cell_type": "markdown",
   "id": "68363a40-7c72-4683-9d8b-75738e31f76f",
   "metadata": {},
   "source": [
    "#### Ответ"
   ]
  },
  {
   "cell_type": "markdown",
   "id": "8f4d35c9-dfe5-4bf7-8ed8-5601db443c5a",
   "metadata": {},
   "source": [
    "$T_{1,2} = [172; 176]$"
   ]
  }
 ],
 "metadata": {
  "kernelspec": {
   "display_name": "Python 3 (ipykernel)",
   "language": "python",
   "name": "python3"
  },
  "language_info": {
   "codemirror_mode": {
    "name": "ipython",
    "version": 3
   },
   "file_extension": ".py",
   "mimetype": "text/x-python",
   "name": "python",
   "nbconvert_exporter": "python",
   "pygments_lexer": "ipython3",
   "version": "3.8.13"
  }
 },
 "nbformat": 4,
 "nbformat_minor": 5
}
