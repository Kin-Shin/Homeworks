{
 "cells": [
  {
   "cell_type": "code",
   "execution_count": 23,
   "id": "0ae9b7fb-1549-47b7-a8f8-decdacaa5bfa",
   "metadata": {},
   "outputs": [],
   "source": [
    "import numpy as np\n",
    "from scipy.stats import zscore"
   ]
  },
  {
   "cell_type": "markdown",
   "id": "6ddca030-233c-4165-8afa-bd60013002e8",
   "metadata": {},
   "source": [
    "### Задание 1."
   ]
  },
  {
   "cell_type": "markdown",
   "id": "040b6935-c7f7-4ddf-a569-028b55d67623",
   "metadata": {},
   "source": [
    "Известно, что генеральная совокупность распределена нормально\n",
    "со средним квадратическим отклонением, равным 16.\n",
    "Найти доверительный интервал для оценки математического ожидания a с надежностью 0.95,\n",
    "если выборочная средняя M = 80, а объем выборки n = 256."
   ]
  },
  {
   "cell_type": "markdown",
   "id": "ce69bac6-06bc-4034-8a67-3ddb4a73c927",
   "metadata": {},
   "source": [
    "#### Решение:"
   ]
  },
  {
   "cell_type": "markdown",
   "id": "186ee91b-863e-46c0-a118-eceaf37bfb12",
   "metadata": {},
   "source": [
    "$$T_{1,2}=\\overline{X}\\pm Z_{\\frac{\\alpha}{2}} \\frac{\\sigma}{\\sqrt{n}}$$"
   ]
  },
  {
   "cell_type": "markdown",
   "id": "ebd3191e-287a-4cde-843e-a7df44b3fc7d",
   "metadata": {},
   "source": [
    "<font size=\"4\"> \n",
    "$T_{1,2} = 80 \\pm Z_{2.5} \\frac{16}{\\sqrt{256}}=80 \\pm 1.96 \\cdot \\frac{16}{\\sqrt{256}} = [78.04; 81.96]$"
   ]
  },
  {
   "cell_type": "code",
   "execution_count": 53,
   "id": "f469d0f8-eadb-48c4-bc72-f4b14e4b687e",
   "metadata": {},
   "outputs": [
    {
     "data": {
      "text/plain": [
       "81.96"
      ]
     },
     "execution_count": 53,
     "metadata": {},
     "output_type": "execute_result"
    }
   ],
   "source": [
    "80 + 1.96 * 16/np.sqrt(256)"
   ]
  },
  {
   "cell_type": "code",
   "execution_count": 54,
   "id": "cbf7f086-ab09-43ba-ab35-0ca08844b6db",
   "metadata": {},
   "outputs": [
    {
     "data": {
      "text/plain": [
       "78.04"
      ]
     },
     "execution_count": 54,
     "metadata": {},
     "output_type": "execute_result"
    }
   ],
   "source": [
    "80 - 1.96 * 16/np.sqrt(256)"
   ]
  },
  {
   "cell_type": "markdown",
   "id": "d718ba97-4ef5-4851-95bf-fea372c87a12",
   "metadata": {},
   "source": [
    "### Задание 2."
   ]
  },
  {
   "cell_type": "markdown",
   "id": "3c89bb10-079f-496f-8f87-2ae89dc48145",
   "metadata": {},
   "source": [
    "В результате 10 независимых измерений некоторой величины X, выполненных с одинаковой точностью,\n",
    "получены опытные данные:\n",
    "6.9, 6.1, 6.2, 6.8, 7.5, 6.3, 6.4, 6.9, 6.7, 6.1\n",
    "Предполагая, что результаты измерений подчинены нормальному закону распределения вероятностей,\n",
    "оценить истинное значение величины X при помощи доверительного интервала, покрывающего это\n",
    "значение с доверительной вероятностью 0,95."
   ]
  },
  {
   "cell_type": "markdown",
   "id": "f3fad75a-5af5-4e78-a3e7-066d82534dee",
   "metadata": {},
   "source": [
    "#### Решение:"
   ]
  },
  {
   "cell_type": "markdown",
   "id": "09f918b2-083b-4bea-9e91-ba0c9a0cb6c6",
   "metadata": {},
   "source": [
    "$$T_{1,2}=\\overline{X}\\pm t_{\\frac{\\alpha}{2}} \\frac{\\sigma_н}{\\sqrt{n}}$$"
   ]
  },
  {
   "cell_type": "code",
   "execution_count": 64,
   "id": "c21aebed-3d43-4c32-ad17-8ca89204654a",
   "metadata": {},
   "outputs": [
    {
     "data": {
      "text/plain": [
       "6.590000000000001"
      ]
     },
     "execution_count": 64,
     "metadata": {},
     "output_type": "execute_result"
    }
   ],
   "source": [
    "data = np.array([6.9, 6.1, 6.2, 6.8, 7.5, 6.3, 6.4, 6.9, 6.7, 6.1])\n",
    "X = np.mean(data)\n",
    "\n",
    "X"
   ]
  },
  {
   "cell_type": "code",
   "execution_count": 63,
   "id": "38b9d551-a805-4111-be26-ddcf40d78fae",
   "metadata": {},
   "outputs": [
    {
     "data": {
      "text/plain": [
       "0.4508017549014448"
      ]
     },
     "execution_count": 63,
     "metadata": {},
     "output_type": "execute_result"
    }
   ],
   "source": [
    "x = 0\n",
    "for i in data:\n",
    "    x += (i - X)**2\n",
    "sigma_n = np.sqrt(x/9) \n",
    "\n",
    "sigma_n"
   ]
  },
  {
   "cell_type": "markdown",
   "id": "c1eb8243-596b-42ef-8756-1354b1ff8698",
   "metadata": {},
   "source": [
    "<font size=\"4\"> \n",
    "$T_{1,2} = 6.59 \\pm Z_{2.5} \\frac{0.45}{\\sqrt{10}}=6.59 \\pm 1.96 \\cdot \\frac{0.45}{\\sqrt{10}} = [6.26; 6.91]$"
   ]
  },
  {
   "cell_type": "code",
   "execution_count": 75,
   "id": "5b6e4805-3137-4ab3-9aee-0ddfdd4628f6",
   "metadata": {},
   "outputs": [
    {
     "data": {
      "text/plain": [
       "6.911888243028539"
      ]
     },
     "execution_count": 75,
     "metadata": {},
     "output_type": "execute_result"
    }
   ],
   "source": [
    "6.59 + 2.262 * 0.45/np.sqrt(10)"
   ]
  },
  {
   "cell_type": "code",
   "execution_count": 76,
   "id": "06b41944-cfe3-44c1-9c76-d8d771e6e294",
   "metadata": {},
   "outputs": [
    {
     "data": {
      "text/plain": [
       "6.268111756971461"
      ]
     },
     "execution_count": 76,
     "metadata": {},
     "output_type": "execute_result"
    }
   ],
   "source": [
    "6.59 - 2.262 * 0.45/np.sqrt(10)"
   ]
  },
  {
   "cell_type": "markdown",
   "id": "c1e7b95e-74f4-44a3-b0f2-0c7d26093b99",
   "metadata": {
    "tags": []
   },
   "source": [
    "### Задание 3."
   ]
  },
  {
   "cell_type": "markdown",
   "id": "a24c4b56-cf0e-4b67-b5e6-f9020624e58f",
   "metadata": {},
   "source": [
    "Проведите тест гипотезы. Утверждается, что шарики для подшипников, изготовленные автоматическим станком, имеют средний диаметр 17 мм.\n",
    "Используя односторонний критерий с α=0,05, проверить эту гипотезу, если в выборке из n=100 шариков средний диаметр\n",
    "оказался равным 17.5 мм, а дисперсия известна и равна 4 кв. мм.\n"
   ]
  },
  {
   "cell_type": "markdown",
   "id": "4afb1225-c1f0-44db-a255-988f4f5c7dd7",
   "metadata": {},
   "source": [
    "#### Решение:"
   ]
  },
  {
   "cell_type": "markdown",
   "id": "c0627a22-c137-4d08-9840-496b0a130f82",
   "metadata": {},
   "source": [
    "<font size = \"5\">\n",
    "$Z_H=\\frac{\\overline{X}-\\mu}{\\frac{\\sigma}{\\sqrt{n}}}$"
   ]
  },
  {
   "cell_type": "markdown",
   "id": "2427ae0f-3613-4d0a-842b-e76601811130",
   "metadata": {},
   "source": [
    "$\\sigma = \\sqrt{D} = 2$"
   ]
  },
  {
   "cell_type": "markdown",
   "id": "405fb2df-bc13-4917-b90c-f4acdc1fff94",
   "metadata": {},
   "source": [
    "$Z_H=\\frac{17.5-17}{\\frac{2}{\\sqrt{100}}} = 1.25$"
   ]
  },
  {
   "cell_type": "code",
   "execution_count": 77,
   "id": "047bc3d2-e703-4a36-adc2-41be43ceba15",
   "metadata": {},
   "outputs": [
    {
     "data": {
      "text/plain": [
       "2.5"
      ]
     },
     "execution_count": 77,
     "metadata": {},
     "output_type": "execute_result"
    }
   ],
   "source": [
    "(17.5-17)/(2/10)"
   ]
  },
  {
   "cell_type": "markdown",
   "id": "b91940a0-1510-47b6-87d2-7e5e750ea919",
   "metadata": {},
   "source": [
    "$\\alpha =5\\%= 1.65$  \n",
    "$2.5>1.65 \\Rightarrow 2.5$ принадлежит альтернативной гипотезе, значит гипотеза, что диаметр равен 17 мм верна"
   ]
  },
  {
   "cell_type": "markdown",
   "id": "4c2c4a9e-29d4-4991-aa22-036b59c204cd",
   "metadata": {},
   "source": [
    "### Задание 4."
   ]
  },
  {
   "cell_type": "markdown",
   "id": "649d7184-47ba-4370-a18e-6876ead164b0",
   "metadata": {},
   "source": [
    "Проведите тест гипотезы. Продавец утверждает, что средний вес пачки печенья составляет 200 г.\n",
    "Из партии извлечена выборка из 10 пачек. Вес каждой пачки составляет:\n",
    "202, 203, 199, 197, 195, 201, 200, 204, 194, 190.\n",
    "Известно, что их веса распределены нормально.\n",
    "Верно ли утверждение продавца, если учитывать, что доверительная вероятность равна 99%? (Провести двусторонний тест.)"
   ]
  },
  {
   "cell_type": "markdown",
   "id": "a4bf6d54-cc00-4fc1-9d8b-37442f89416a",
   "metadata": {},
   "source": [
    "#### Решение:"
   ]
  },
  {
   "cell_type": "markdown",
   "id": "b26a0428-4ea1-4c82-861b-80906a295c19",
   "metadata": {},
   "source": [
    "<font size = \"5\">\n",
    "$t_H=\\frac{\\overline{X}-\\mu}{\\frac{\\sigma_н}{\\sqrt{n}}}$"
   ]
  },
  {
   "cell_type": "code",
   "execution_count": 71,
   "id": "0728714e-7410-4c30-ac4e-916f21a8fc58",
   "metadata": {},
   "outputs": [
    {
     "data": {
      "text/plain": [
       "198.5"
      ]
     },
     "execution_count": 71,
     "metadata": {},
     "output_type": "execute_result"
    }
   ],
   "source": [
    "data2 = np.array([202, 203, 199, 197, 195, 201, 200, 204, 194, 190])\n",
    "mu = np.mean(data)\n",
    "\n",
    "mu"
   ]
  },
  {
   "cell_type": "code",
   "execution_count": 72,
   "id": "e28032c2-d344-4bdb-92fa-e3335dee8ca7",
   "metadata": {},
   "outputs": [
    {
     "data": {
      "text/plain": [
       "4.453463071962462"
      ]
     },
     "execution_count": 72,
     "metadata": {},
     "output_type": "execute_result"
    }
   ],
   "source": [
    "x = 0\n",
    "for i in data:\n",
    "    x += (i - mu)**2\n",
    "sigma_n2 = np.sqrt(x/9) \n",
    "\n",
    "sigma_n2"
   ]
  },
  {
   "cell_type": "markdown",
   "id": "a1248f5b-d1f4-4fc6-ad7c-1e53babd9431",
   "metadata": {},
   "source": [
    "<font size = \"5\">\n",
    "$t_H=\\frac{198.5-200}{\\frac{4.453}{\\sqrt{10}}}$"
   ]
  },
  {
   "cell_type": "code",
   "execution_count": 78,
   "id": "5578a05e-b965-4fbb-9410-6c2c793f398c",
   "metadata": {},
   "outputs": [
    {
     "data": {
      "text/plain": [
       "-1.0652181653385513"
      ]
     },
     "execution_count": 78,
     "metadata": {},
     "output_type": "execute_result"
    }
   ],
   "source": [
    "(198.5-200)/(4.453/np.sqrt(10))"
   ]
  },
  {
   "cell_type": "markdown",
   "id": "a05c7582-ffaf-48e2-9e73-519480449bac",
   "metadata": {},
   "source": [
    "$\\alpha = \\pm 0.005\\% =\\pm 3.25$  т.к. тест двусторонний  \n",
    "$-3.25<-1.06<3.25 \\Rightarrow -1.06$ принадлежит нулевой гипотезе, значит гипотеза, что средний вес пачки печенья составляет 200 г верна"
   ]
  }
 ],
 "metadata": {
  "kernelspec": {
   "display_name": "Python 3 (ipykernel)",
   "language": "python",
   "name": "python3"
  },
  "language_info": {
   "codemirror_mode": {
    "name": "ipython",
    "version": 3
   },
   "file_extension": ".py",
   "mimetype": "text/x-python",
   "name": "python",
   "nbconvert_exporter": "python",
   "pygments_lexer": "ipython3",
   "version": "3.8.13"
  }
 },
 "nbformat": 4,
 "nbformat_minor": 5
}
