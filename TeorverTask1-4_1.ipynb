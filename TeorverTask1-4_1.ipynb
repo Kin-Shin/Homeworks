{
 "cells": [
  {
   "cell_type": "markdown",
   "id": "6ddca030-233c-4165-8afa-bd60013002e8",
   "metadata": {},
   "source": [
    "### Задание 1."
   ]
  },
  {
   "cell_type": "markdown",
   "id": "327d09c5-ff3e-48d6-a330-489c2713b623",
   "metadata": {},
   "source": [
    " Из колоды в 52 карты извлекаются случайным образом 4 карты. \n",
    " \n",
    " a) Найти вероятность того, что все карты – крести.\n",
    " \n",
    " б) Найти вероятность, что среди 4-х карт окажется хотя бы один туз"
   ]
  },
  {
   "cell_type": "markdown",
   "id": "ce69bac6-06bc-4034-8a67-3ddb4a73c927",
   "metadata": {},
   "source": [
    "#### Решение:"
   ]
  },
  {
   "cell_type": "markdown",
   "id": "bae3fb1c-e070-4d0e-b33b-c5e2e2a9fd2e",
   "metadata": {},
   "source": [
    "а) В колоде 4 масти, значит крести 13 штук.\n",
    "Вероятность вытащить одну крести $\\frac{13}{52}$ и вторую $\\frac{12}{51}$, и третью $\\frac{11}{50}$, и четвёртую $\\frac{10}{49}$ $\\Rightarrow$\n",
    "\n",
    "$ \\frac{13 \\cdot 12 \\cdot 11 \\cdot 10}{52 \\cdot 51 \\cdot 50 \\cdot  49} = \\frac{17160}{6497400}  \\approx 0,003$"
   ]
  },
  {
   "cell_type": "markdown",
   "id": "1013f6f4-6e8e-4e35-910c-adeae5150d33",
   "metadata": {},
   "source": [
    "б) В колоде 4 туза. Значит вероятность вытащить один туз, если уже вытащены 3 другие карты $\\frac{4}{49}$ или второй туз $\\frac{3}{49}$ или третий туз $\\frac{2}{49}$ или четвёртый туз $\\frac{1}{49} \\Rightarrow $ вероятность, что среди 4-х карт окажется хотя бы один туз равна $\\frac{4}{49} + \\frac{3}{49} + \\frac{2}{49} + \\frac{1}{49} = \\frac{10}{49}$"
   ]
  },
  {
   "cell_type": "markdown",
   "id": "952f4952-2885-4c58-b722-0e5d32af9457",
   "metadata": {},
   "source": [
    "### Задание 2."
   ]
  },
  {
   "cell_type": "markdown",
   "id": "6b0e99d5-6bb1-4cc7-aea0-0d957abce485",
   "metadata": {},
   "source": [
    "На входной двери подъезда установлен кодовый замок, содержащий десять кнопок с цифрами от 0 до 9. Код содержит три цифры, которые нужно нажать одновременно. Какова вероятность того, что человек, не знающий код, откроет дверь с первой попытки?"
   ]
  },
  {
   "cell_type": "markdown",
   "id": "f3fad75a-5af5-4e78-a3e7-066d82534dee",
   "metadata": {},
   "source": [
    "#### Решение:"
   ]
  },
  {
   "cell_type": "markdown",
   "id": "af110d84-6047-4da2-a683-0197fd6864f0",
   "metadata": {},
   "source": [
    "Количество размещений кнопок равно $A_{10}^{3} = \\frac{10!}{(10 - 3)!} = \\frac{7! \\cdot 8 \\cdot 9 \\cdot 10}{7!}=720 \\Rightarrow$ Вероятность открытия двери с первой попытки равна $\\frac{1}{720}$."
   ]
  },
  {
   "cell_type": "code",
   "execution_count": 5,
   "id": "70e2cc27-9ac8-48f1-9b22-13d44a8e59a8",
   "metadata": {},
   "outputs": [],
   "source": [
    "from math import factorial"
   ]
  },
  {
   "cell_type": "code",
   "execution_count": 7,
   "id": "545901f3-69c6-4028-b272-2fd09b793f0f",
   "metadata": {},
   "outputs": [
    {
     "data": {
      "text/plain": [
       "720.0"
      ]
     },
     "execution_count": 7,
     "metadata": {},
     "output_type": "execute_result"
    }
   ],
   "source": [
    "A = factorial(10) / factorial(10-3)\n",
    "A"
   ]
  },
  {
   "cell_type": "markdown",
   "id": "c1e7b95e-74f4-44a3-b0f2-0c7d26093b99",
   "metadata": {},
   "source": [
    "### Задание 3."
   ]
  },
  {
   "cell_type": "markdown",
   "id": "3c53fcf9-ecad-4b03-9e8a-7a8cf5bc6734",
   "metadata": {},
   "source": [
    "В ящике имеется 15 деталей, из которых 9 окрашены. Рабочий случайным образом извлекает 3 детали. Какова вероятность того, что все извлеченные детали окрашены? "
   ]
  },
  {
   "cell_type": "markdown",
   "id": "4afb1225-c1f0-44db-a255-988f4f5c7dd7",
   "metadata": {},
   "source": [
    "#### Решение:"
   ]
  },
  {
   "cell_type": "markdown",
   "id": "ff964644-09b1-4871-beb7-0c2d21ef5695",
   "metadata": {
    "tags": []
   },
   "source": [
    "Количесвто вариантов извлечения 3х деталей из 15ти:\n",
    "\n",
    "$C_{15}^{3} = \\frac{15!}{3! \\cdot (15 - 3)!} = \\frac{15!}{3! \\cdot 12!} = \\frac{13 \\cdot 14 \\cdot 15}{6} = 455$"
   ]
  },
  {
   "cell_type": "code",
   "execution_count": 37,
   "id": "4674d4dc-abb8-430c-86fc-4bb0cf7c27ed",
   "metadata": {},
   "outputs": [
    {
     "data": {
      "text/plain": [
       "455.0"
      ]
     },
     "execution_count": 37,
     "metadata": {},
     "output_type": "execute_result"
    }
   ],
   "source": [
    "C = factorial(15) / (factorial(3) * factorial(15-3))\n",
    "C "
   ]
  },
  {
   "cell_type": "markdown",
   "id": "16266cde-d7d8-4617-bccf-c508d0784280",
   "metadata": {},
   "source": [
    "Количесвто вариантов извлечения 3х окрашенных деталей из 9ти:\n",
    "$C_{9}^{3} = \\frac{9!}{3! \\cdot (9 - 3)!} = \\frac{9!}{3! \\cdot 6!} = \\frac{7 \\cdot 8 \\cdot 9}{6} = 84$"
   ]
  },
  {
   "cell_type": "code",
   "execution_count": 39,
   "id": "d78b80b7-07ed-4b68-b1b8-ee876d3a9959",
   "metadata": {},
   "outputs": [
    {
     "data": {
      "text/plain": [
       "84.0"
      ]
     },
     "execution_count": 39,
     "metadata": {},
     "output_type": "execute_result"
    }
   ],
   "source": [
    "C = factorial(9) / (factorial(3) * factorial(9-3))\n",
    "C "
   ]
  },
  {
   "cell_type": "markdown",
   "id": "2d1cdf55-bb25-4d04-a0e9-40fe7ca8af1d",
   "metadata": {},
   "source": [
    "Вероятность извлечения всех окрашенных деталей (A) находим как отношение: \n",
    "\n",
    "$P(A) = \\frac{m}{n} = \\frac{84}{455} = 0.1846 \\approx 19\\%$"
   ]
  },
  {
   "cell_type": "code",
   "execution_count": 40,
   "id": "28508268-b36e-48eb-aaa1-97345b0fc722",
   "metadata": {},
   "outputs": [
    {
     "data": {
      "text/plain": [
       "0.18461538461538463"
      ]
     },
     "execution_count": 40,
     "metadata": {},
     "output_type": "execute_result"
    }
   ],
   "source": [
    "84/455"
   ]
  },
  {
   "cell_type": "markdown",
   "id": "4c2c4a9e-29d4-4991-aa22-036b59c204cd",
   "metadata": {},
   "source": [
    "### Задание 4."
   ]
  },
  {
   "cell_type": "markdown",
   "id": "2c7c3b02-76cf-450a-b5a2-9913defc60dc",
   "metadata": {},
   "source": [
    "В лотерее 100 билетов. Из них 2 выигрышных. Какова вероятность того, что 2 приобретенных билета окажутся выигрышными?"
   ]
  },
  {
   "cell_type": "markdown",
   "id": "a4bf6d54-cc00-4fc1-9d8b-37442f89416a",
   "metadata": {},
   "source": [
    "#### Решение:"
   ]
  },
  {
   "cell_type": "markdown",
   "id": "df22bfec-8761-42f3-bc10-7495dc4dc052",
   "metadata": {
    "tags": []
   },
   "source": [
    "Количесвто вариантов комбинаций 2х билетов из 100:\n",
    "\n",
    "$C_{100}^{2} = \\frac{100!}{2! \\cdot (100 - 2)!} = \\frac{100!}{2 \\cdot 98!} = \\frac{99 \\cdot 100}{2} = 4950$"
   ]
  },
  {
   "cell_type": "markdown",
   "id": "17bd2a01-05d9-4189-8569-f3afb9dcc398",
   "metadata": {},
   "source": [
    "Количесвто вариантов получения 2х выигрышных билетов из 2х очевидно равно 1."
   ]
  },
  {
   "cell_type": "markdown",
   "id": "cc750b2a-2f27-4b2b-a0bc-c1bede8e38ec",
   "metadata": {},
   "source": [
    "Вероятность того, что 2 приобретенных билета окажутся выигрышными \n",
    "\n",
    "$P(A) = \\frac{m}{n} = \\frac{1}{4950} = 0.0002(02) \\approx 0.02\\%$"
   ]
  },
  {
   "cell_type": "code",
   "execution_count": 43,
   "id": "901f2616-7f95-45b6-b410-a3fd5e295d1c",
   "metadata": {},
   "outputs": [
    {
     "data": {
      "text/plain": [
       "0.00020202020202020202"
      ]
     },
     "execution_count": 43,
     "metadata": {},
     "output_type": "execute_result"
    }
   ],
   "source": [
    "1 / 4950"
   ]
  }
 ],
 "metadata": {
  "kernelspec": {
   "display_name": "Python 3 (ipykernel)",
   "language": "python",
   "name": "python3"
  },
  "language_info": {
   "codemirror_mode": {
    "name": "ipython",
    "version": 3
   },
   "file_extension": ".py",
   "mimetype": "text/x-python",
   "name": "python",
   "nbconvert_exporter": "python",
   "pygments_lexer": "ipython3",
   "version": "3.8.13"
  }
 },
 "nbformat": 4,
 "nbformat_minor": 5
}
