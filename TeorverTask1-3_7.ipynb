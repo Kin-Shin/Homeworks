{
 "cells": [
  {
   "cell_type": "code",
   "execution_count": 1,
   "id": "0ae9b7fb-1549-47b7-a8f8-decdacaa5bfa",
   "metadata": {},
   "outputs": [],
   "source": [
    "import numpy as np"
   ]
  },
  {
   "cell_type": "markdown",
   "id": "6ddca030-233c-4165-8afa-bd60013002e8",
   "metadata": {},
   "source": [
    "### Задание 1."
   ]
  },
  {
   "cell_type": "markdown",
   "id": "040b6935-c7f7-4ddf-a569-028b55d67623",
   "metadata": {},
   "source": [
    "Даны значения величины заработной платы заемщиков банка (zp) и значения их поведенческого кредитного скоринга (ks): zp = [35, 45, 190, 200, 40, 70, 54, 150, 120, 110], ks = [401, 574, 874, 919, 459, 739, 653, 902, 746, 832]. Используя математические операции, посчитать коэффициенты линейной регрессии, приняв за X заработную плату (то есть, zp - признак), а за y - значения скорингового балла (то есть, ks - целевая переменная). Произвести расчет как с использованием intercept, так и без."
   ]
  },
  {
   "cell_type": "markdown",
   "id": "ce69bac6-06bc-4034-8a67-3ddb4a73c927",
   "metadata": {},
   "source": [
    "#### Решение:"
   ]
  },
  {
   "cell_type": "code",
   "execution_count": 2,
   "id": "7a3597df-2a5e-4def-b676-255b82a1076c",
   "metadata": {},
   "outputs": [],
   "source": [
    "zp = np.array([35, 45, 190, 200, 40, 70, 54, 150, 120, 110]) \n",
    "ks = np.array([401, 574, 874, 919, 459, 739, 653, 902, 746, 832])"
   ]
  },
  {
   "cell_type": "markdown",
   "id": "22cd17d9-d696-4e5b-ab76-a80108426990",
   "metadata": {},
   "source": [
    "$$y = a + bx$$"
   ]
  },
  {
   "cell_type": "code",
   "execution_count": 3,
   "id": "0b1705aa-c0d4-4200-9a87-a6d2bccc6b56",
   "metadata": {},
   "outputs": [],
   "source": [
    "x = zp\n",
    "y = ks"
   ]
  },
  {
   "cell_type": "markdown",
   "id": "82838f47-1384-4c9f-9b95-211456e3fe67",
   "metadata": {},
   "source": [
    "$$b = \\frac{\\overline{yx} - \\overline{y} \\cdot {\\overline{x}}}{\\overline{x^2} - (\\overline{x})^2};$$"
   ]
  },
  {
   "cell_type": "markdown",
   "id": "c4dda172-0384-457b-ac0e-f6aa68af6e78",
   "metadata": {},
   "source": [
    "$$a = \\overline{y} - b \\cdot {\\overline{x}}.$$"
   ]
  },
  {
   "cell_type": "code",
   "execution_count": 4,
   "id": "234e3f93-32a1-48f8-ad87-15b547f236bf",
   "metadata": {},
   "outputs": [
    {
     "data": {
      "text/plain": [
       "2.620538882402765"
      ]
     },
     "execution_count": 4,
     "metadata": {},
     "output_type": "execute_result"
    }
   ],
   "source": [
    "b = (np.mean(x*y) - np.mean(y)*np.mean(x))/(np.mean(x**2)-np.mean(x)**2)\n",
    "b"
   ]
  },
  {
   "cell_type": "code",
   "execution_count": 5,
   "id": "6b833c39-c4cf-42b1-8374-910ef7bb0ee1",
   "metadata": {},
   "outputs": [
    {
     "data": {
      "text/plain": [
       "444.1773573243596"
      ]
     },
     "execution_count": 5,
     "metadata": {},
     "output_type": "execute_result"
    }
   ],
   "source": [
    "a = np.mean(y) - b * np.mean(x)\n",
    "a"
   ]
  },
  {
   "cell_type": "code",
   "execution_count": 6,
   "id": "aa42566f-b27b-43b5-be90-ebe183b4df42",
   "metadata": {},
   "outputs": [],
   "source": [
    "X=x.reshape((10,1))\n",
    "Y=y.reshape((10,1))"
   ]
  },
  {
   "cell_type": "code",
   "execution_count": 7,
   "id": "e93118d1-b5f9-47c9-b6ca-61f8c825eb5b",
   "metadata": {},
   "outputs": [
    {
     "data": {
      "text/plain": [
       "array([[ 35],\n",
       "       [ 45],\n",
       "       [190],\n",
       "       [200],\n",
       "       [ 40],\n",
       "       [ 70],\n",
       "       [ 54],\n",
       "       [150],\n",
       "       [120],\n",
       "       [110]])"
      ]
     },
     "execution_count": 7,
     "metadata": {},
     "output_type": "execute_result"
    }
   ],
   "source": [
    "X"
   ]
  },
  {
   "cell_type": "code",
   "execution_count": 8,
   "id": "504d7955-5dc7-4d4d-9f3a-283c53dc9c56",
   "metadata": {},
   "outputs": [
    {
     "data": {
      "text/plain": [
       "array([[5.88982042]])"
      ]
     },
     "execution_count": 8,
     "metadata": {},
     "output_type": "execute_result"
    }
   ],
   "source": [
    "B = np.linalg.inv(X.T@X)@X.T@Y\n",
    "B"
   ]
  },
  {
   "cell_type": "markdown",
   "id": "d718ba97-4ef5-4851-95bf-fea372c87a12",
   "metadata": {},
   "source": [
    "### Задание 2."
   ]
  },
  {
   "cell_type": "markdown",
   "id": "3c89bb10-079f-496f-8f87-2ae89dc48145",
   "metadata": {},
   "source": [
    "Посчитать коэффициент линейной регрессии при заработной плате (zp), используя градиентный спуск (без intercept)."
   ]
  },
  {
   "cell_type": "markdown",
   "id": "f3fad75a-5af5-4e78-a3e7-066d82534dee",
   "metadata": {},
   "source": [
    "#### Решение:"
   ]
  },
  {
   "cell_type": "code",
   "execution_count": 9,
   "id": "03d1469c-13f3-4f2e-81bc-bb613d2b0c14",
   "metadata": {},
   "outputs": [],
   "source": [
    "def mse_(B1,y=y,x=x,n=10):\n",
    "    return np.sum((B1*x-y)**2)/n"
   ]
  },
  {
   "cell_type": "code",
   "execution_count": 10,
   "id": "7307e1d2-4985-4bd9-a33f-c49cb81dbf15",
   "metadata": {},
   "outputs": [],
   "source": [
    "B1=0.1"
   ]
  },
  {
   "cell_type": "code",
   "execution_count": 11,
   "id": "53960c0d-1e22-444b-8e0e-6d130954ead2",
   "metadata": {},
   "outputs": [
    {
     "data": {
      "text/plain": [
       "1e-06"
      ]
     },
     "execution_count": 11,
     "metadata": {},
     "output_type": "execute_result"
    }
   ],
   "source": [
    "alpha = 1e-6\n",
    "alpha"
   ]
  },
  {
   "cell_type": "code",
   "execution_count": 12,
   "id": "61619d49-df9c-4260-8eae-e180ac5263fb",
   "metadata": {},
   "outputs": [],
   "source": [
    "n = 10"
   ]
  },
  {
   "cell_type": "code",
   "execution_count": 13,
   "id": "4856acea-c469-4bd5-bbcf-c529ff133a56",
   "metadata": {},
   "outputs": [
    {
     "name": "stdout",
     "output_type": "stream",
     "text": [
      "Iteration: 0, B1 = 0.25952808, mse=493237.7212546963\n",
      "Iteration: 20, B1 = 2.6698789606516935, mse=199352.96411174876\n",
      "Iteration: 40, B1 = 4.04834889855975, mse=103233.54824312925\n",
      "Iteration: 60, B1 = 4.836690291080364, mse=71796.25222021657\n",
      "Iteration: 80, B1 = 5.287539550879594, mse=61514.21323463749\n"
     ]
    }
   ],
   "source": [
    "for i in range (100):\n",
    "    B1 -=alpha*(2/n)*np.sum((B1*x-y)*x)\n",
    "    if i%20==0:\n",
    "        print(f'Iteration: {i}, B1 = {B1}, mse={mse_(B1)}')"
   ]
  },
  {
   "cell_type": "markdown",
   "id": "c1e7b95e-74f4-44a3-b0f2-0c7d26093b99",
   "metadata": {
    "tags": []
   },
   "source": [
    "### Задание 3*."
   ]
  },
  {
   "cell_type": "markdown",
   "id": "a24c4b56-cf0e-4b67-b5e6-f9020624e58f",
   "metadata": {},
   "source": [
    "Произвести вычисления как в пункте 2, но с вычислением intercept. Учесть, что изменение коэффициентов должно производиться\n",
    "на каждом шаге одновременно (то есть изменение одного коэффициента не должно влиять на изменение другого во время одной итерации)."
   ]
  },
  {
   "cell_type": "markdown",
   "id": "4afb1225-c1f0-44db-a255-988f4f5c7dd7",
   "metadata": {},
   "source": [
    "#### Решение:"
   ]
  },
  {
   "cell_type": "code",
   "execution_count": 14,
   "id": "68018800-d0bb-4e4a-9be1-bbab64ee59d1",
   "metadata": {},
   "outputs": [],
   "source": [
    "B0=0.1"
   ]
  },
  {
   "cell_type": "code",
   "execution_count": 15,
   "id": "cf59d0ba-a3b0-45ca-81bc-62d6d6731ec5",
   "metadata": {},
   "outputs": [],
   "source": [
    "B1=0.1"
   ]
  },
  {
   "cell_type": "code",
   "execution_count": 41,
   "id": "69b1722f-bab2-4acd-ab49-6fc87f0ee4d8",
   "metadata": {},
   "outputs": [
    {
     "data": {
      "text/plain": [
       "1e-06"
      ]
     },
     "execution_count": 41,
     "metadata": {},
     "output_type": "execute_result"
    }
   ],
   "source": [
    "alpha = 1e-6\n",
    "alpha"
   ]
  },
  {
   "cell_type": "code",
   "execution_count": 42,
   "id": "4af4db65-6849-462f-b43c-cffde16e2fc9",
   "metadata": {},
   "outputs": [],
   "source": [
    "def mse2_(B0,B1,y=y,x=x,n=10):\n",
    "    return np.sum((B0+B1*x-y)**2)/n"
   ]
  },
  {
   "cell_type": "code",
   "execution_count": 43,
   "id": "79bc847f-73ca-4e55-be07-4aa70483c19b",
   "metadata": {},
   "outputs": [
    {
     "name": "stdout",
     "output_type": "stream",
     "text": [
      "Iteration: 0, B0 = 444.17735732323933, B1 = 2.6205388824110107, mse=6470.414201176658\n",
      "Iteration: 50000, B0 = 444.17735732323933, B1 = 2.6205388824110107, mse=6470.414201176658\n",
      "Iteration: 100000, B0 = 444.17735732323933, B1 = 2.6205388824110107, mse=6470.414201176658\n",
      "Iteration: 150000, B0 = 444.17735732323933, B1 = 2.6205388824110107, mse=6470.414201176658\n",
      "Iteration: 200000, B0 = 444.17735732323933, B1 = 2.6205388824110107, mse=6470.414201176658\n",
      "Iteration: 250000, B0 = 444.17735732323933, B1 = 2.6205388824110107, mse=6470.414201176658\n",
      "Iteration: 300000, B0 = 444.17735732323933, B1 = 2.6205388824110107, mse=6470.414201176658\n",
      "Iteration: 350000, B0 = 444.17735732323933, B1 = 2.6205388824110107, mse=6470.414201176658\n",
      "Iteration: 400000, B0 = 444.17735732323933, B1 = 2.6205388824110107, mse=6470.414201176658\n",
      "Iteration: 450000, B0 = 444.17735732323933, B1 = 2.6205388824110107, mse=6470.414201176658\n",
      "Iteration: 500000, B0 = 444.17735732323933, B1 = 2.6205388824110107, mse=6470.414201176658\n",
      "Iteration: 550000, B0 = 444.17735732323933, B1 = 2.6205388824110107, mse=6470.414201176658\n",
      "Iteration: 600000, B0 = 444.17735732323933, B1 = 2.6205388824110107, mse=6470.414201176658\n",
      "Iteration: 650000, B0 = 444.17735732323933, B1 = 2.6205388824110107, mse=6470.414201176658\n",
      "Iteration: 700000, B0 = 444.17735732323933, B1 = 2.6205388824110107, mse=6470.414201176658\n",
      "Iteration: 750000, B0 = 444.17735732323933, B1 = 2.6205388824110107, mse=6470.414201176658\n",
      "Iteration: 800000, B0 = 444.17735732323933, B1 = 2.6205388824110107, mse=6470.414201176658\n",
      "Iteration: 850000, B0 = 444.17735732323933, B1 = 2.6205388824110107, mse=6470.414201176658\n"
     ]
    }
   ],
   "source": [
    "for i in range (900000):\n",
    "    y_pred=B0+B1*x\n",
    "    B0 -=alpha*(2/n)*np.sum((y_pred-y))\n",
    "    B1 -=alpha*(2/n)*np.sum((y_pred-y)*x)\n",
    "    if i%50000==0:\n",
    "        print(f'Iteration: {i}, B0 = {B0}, B1 = {B1}, mse={mse2_(B0,B1)}')"
   ]
  },
  {
   "cell_type": "code",
   "execution_count": null,
   "id": "4630bf66-ed7d-437f-8a78-b6e2c849ff61",
   "metadata": {},
   "outputs": [],
   "source": []
  }
 ],
 "metadata": {
  "kernelspec": {
   "display_name": "Python 3 (ipykernel)",
   "language": "python",
   "name": "python3"
  },
  "language_info": {
   "codemirror_mode": {
    "name": "ipython",
    "version": 3
   },
   "file_extension": ".py",
   "mimetype": "text/x-python",
   "name": "python",
   "nbconvert_exporter": "python",
   "pygments_lexer": "ipython3",
   "version": "3.8.13"
  }
 },
 "nbformat": 4,
 "nbformat_minor": 5
}
